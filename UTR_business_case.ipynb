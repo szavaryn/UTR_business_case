{
 "cells": [
  {
   "cell_type": "markdown",
   "id": "9cb11b72",
   "metadata": {},
   "source": [
    "# The Issue Description"
   ]
  },
  {
   "cell_type": "markdown",
   "id": "23a8bd23",
   "metadata": {},
   "source": [
    "We have the food delivery service and here we are going to find some potential for improving the performance of our couriers / riders. The goal is to provide the data-driven approach for increasing our current rider utilisation rate (UTR), i.e. how many orders could be delivered by rider per one hour. \n",
    "\n",
    "Key conclusions and visualization are described separately in .pdf format."
   ]
  },
  {
   "cell_type": "code",
   "execution_count": 1,
   "id": "9cf0590c",
   "metadata": {},
   "outputs": [],
   "source": [
    "import pandas as pd\n",
    "import numpy as np\n",
    "import typing as tp\n",
    "\n",
    "import seaborn as sns\n",
    "import matplotlib as mpl\n",
    "import matplotlib.pyplot as plt\n",
    "from pylab import rcParams\n",
    "rcParams['figure.figsize'] = 15,6\n",
    "\n",
    "import datetime as dt"
   ]
  },
  {
   "cell_type": "code",
   "execution_count": 2,
   "id": "95f00a93",
   "metadata": {},
   "outputs": [],
   "source": [
    "df_orders = pd.read_excel(\"dh_orders.xlsx\")\n",
    "df_shifts = pd.read_excel(\"dh_shifts.xlsx\")"
   ]
  },
  {
   "cell_type": "code",
   "execution_count": 3,
   "id": "ea9d8e24",
   "metadata": {},
   "outputs": [],
   "source": [
    "def simpe_review(df: tp.Any) -> str:\n",
    "    \"\"\"Overall info\"\"\"\n",
    "    print(\n",
    "        \"The structure of the sample \" \n",
    "        + \"\\n\\n\"\n",
    "        + \"The size of the sample: \" + str(df.shape[0]) + \" rows\"\n",
    "        + \"\\n\\n\"\n",
    "        + \"Fields types: \"\n",
    "        + \"\\n\"\n",
    "        + str(df.dtypes)\n",
    "        + \"\\n\\n\"\n",
    "        + \"Nullable check\"\n",
    "        + \"\\n\"\n",
    "        + str(df.count())\n",
    "    )"
   ]
  },
  {
   "cell_type": "code",
   "execution_count": 6,
   "id": "513ebdc1",
   "metadata": {},
   "outputs": [
    {
     "name": "stdout",
     "output_type": "stream",
     "text": [
      "The structure of the sample \n",
      "\n",
      "The size of the sample: 10483 rows\n",
      "\n",
      "Fields types: \n",
      "order_id                           int64\n",
      "city_id                            int64\n",
      "rider_id                         float64\n",
      "order_status                      object\n",
      "created_at                datetime64[ns]\n",
      "sent_to_vendor_at         datetime64[ns]\n",
      "rider_accepted_at         datetime64[ns]\n",
      "expected_pickup_at        datetime64[ns]\n",
      "rider_picked_up_at        datetime64[ns]\n",
      "promised_delivery_time    datetime64[ns]\n",
      "rider_dropped_off_at      datetime64[ns]\n",
      "rider_at_restaurant       datetime64[ns]\n",
      "rider_at_customer         datetime64[ns]\n",
      "dtype: object\n",
      "\n",
      "Nullable check\n",
      "order_id                  10483\n",
      "city_id                   10483\n",
      "rider_id                  10481\n",
      "order_status              10483\n",
      "created_at                10483\n",
      "sent_to_vendor_at         10483\n",
      "rider_accepted_at         10437\n",
      "expected_pickup_at        10483\n",
      "rider_picked_up_at        10297\n",
      "promised_delivery_time    10483\n",
      "rider_dropped_off_at      10235\n",
      "rider_at_restaurant       10403\n",
      "rider_at_customer         10285\n",
      "dtype: int64\n"
     ]
    }
   ],
   "source": [
    "df_orders = df_orders[[\n",
    "    \"order_id\", \"city_id\", \"rider_id\", \"order_status\", \"created_at\", \"sent_to_vendor_at\", \n",
    "    \"rider_accepted_at\", \"expected_pickup_at\", \"rider_picked_up_at\", \"promised_delivery_time\", \n",
    "    \"rider_dropped_off_at\", \"rider_at_restaurant\", \"rider_at_customer\"\n",
    "]]\n",
    "\n",
    "simpe_review(df_orders)"
   ]
  },
  {
   "cell_type": "markdown",
   "id": "05e68f4b",
   "metadata": {},
   "source": [
    "Data Definitions (all timestamps are in UTC):\n",
    "- **order_id** - unique key given to a created order per country\n",
    "- **city_id** - city code based on our database unique per country\n",
    "- **rider_id** - unique key given to each rider in a country\n",
    "- **order_status** - status of the order \n",
    "- **created_at** - time the order was created\n",
    "- **sent_to_vendor_at** - time order was sent/notified to vendor\n",
    "- **rider_accepted_at** - time rider accepted the order, after being notified\n",
    "- **expected_pickup_at** - time vendor is expected to have the meal ready based on out prediction model\n",
    "- **rider_picked_up_at** - time rider clicked order as picked up at vendor\n",
    "- **promised_delivery_time** - initial promise we provide customer when order is placed/created using our prediction models\n",
    "- **rider_dropped_off_at** - time rider dropoff the order to customer and clicked completed\n",
    "- **rider_at_restaurant** - time rider is within 100m of the vendor\n",
    "- **rider_at_customer** - time rider is within 100m of the customer, actual delivery time is accounted until this timestamp"
   ]
  },
  {
   "cell_type": "code",
   "execution_count": 7,
   "id": "261f837e",
   "metadata": {},
   "outputs": [
    {
     "name": "stdout",
     "output_type": "stream",
     "text": [
      "The structure of the sample \n",
      "\n",
      "The size of the sample: 1115 rows\n",
      "\n",
      "Fields types: \n",
      "rider_id                           int64\n",
      "shift_id                           int64\n",
      "shift_state                       object\n",
      "planned_shift_start_at    datetime64[ns]\n",
      "actual_start_at           datetime64[ns]\n",
      "planned_shift_end_at      datetime64[ns]\n",
      "actual_end_at             datetime64[ns]\n",
      "dtype: object\n",
      "\n",
      "Nullable check\n",
      "rider_id                  1115\n",
      "shift_id                  1115\n",
      "shift_state               1115\n",
      "planned_shift_start_at    1115\n",
      "actual_start_at           1096\n",
      "planned_shift_end_at      1115\n",
      "actual_end_at             1096\n",
      "dtype: int64\n"
     ]
    }
   ],
   "source": [
    "df_shifts = df_shifts[[\n",
    "    \"rider_id\", \"shift_id\", \"shift_state\", \"planned_shift_start_at\", \n",
    "    \"actual_start_at\", \"planned_shift_end_at\", \"actual_end_at\"\n",
    "]]\n",
    "\n",
    "simpe_review(df_shifts)"
   ]
  },
  {
   "cell_type": "markdown",
   "id": "32d101e0",
   "metadata": {},
   "source": [
    "Data Definitions (all timestamps are in UTC):\n",
    "- **shift_id** - unique id provided to shifts created for a specific country\n",
    "- **shift_state** - status of the shift updated after completion of the planned ours, cancelled shifts are shifts available but not selected by riders\n",
    "- **planned_shift_start_at** - planned start of the shift when rider scheduled it\n",
    "- **planned_shift_end_at** - planned end of the shift when rider scheduled it\n",
    "- **actual_start_at** - actual time rider started the shift in the app\n",
    "- **actual_end_at** - actual time rider ended the shift in the app"
   ]
  },
  {
   "cell_type": "code",
   "execution_count": 8,
   "id": "cf1c3ff6",
   "metadata": {},
   "outputs": [
    {
     "data": {
      "text/html": [
       "<div>\n",
       "<style scoped>\n",
       "    .dataframe tbody tr th:only-of-type {\n",
       "        vertical-align: middle;\n",
       "    }\n",
       "\n",
       "    .dataframe tbody tr th {\n",
       "        vertical-align: top;\n",
       "    }\n",
       "\n",
       "    .dataframe thead th {\n",
       "        text-align: right;\n",
       "    }\n",
       "</style>\n",
       "<table border=\"1\" class=\"dataframe\">\n",
       "  <thead>\n",
       "    <tr style=\"text-align: right;\">\n",
       "      <th></th>\n",
       "      <th>city_id</th>\n",
       "      <th>order_id</th>\n",
       "    </tr>\n",
       "  </thead>\n",
       "  <tbody>\n",
       "    <tr>\n",
       "      <th>0</th>\n",
       "      <td>3</td>\n",
       "      <td>10483</td>\n",
       "    </tr>\n",
       "  </tbody>\n",
       "</table>\n",
       "</div>"
      ],
      "text/plain": [
       "   city_id  order_id\n",
       "0        3     10483"
      ]
     },
     "execution_count": 8,
     "metadata": {},
     "output_type": "execute_result"
    }
   ],
   "source": [
    "df_orders.groupby([\"city_id\"]).count()[\"order_id\"].reset_index()"
   ]
  },
  {
   "cell_type": "code",
   "execution_count": 9,
   "id": "c09eba0d",
   "metadata": {},
   "outputs": [
    {
     "data": {
      "text/plain": [
       "numpy.datetime64('2020-08-24T23:59:07.167000000')"
      ]
     },
     "execution_count": 9,
     "metadata": {},
     "output_type": "execute_result"
    }
   ],
   "source": [
    "max(np.array(df_orders[\"created_at\"]))"
   ]
  },
  {
   "cell_type": "code",
   "execution_count": 10,
   "id": "f0f59d93",
   "metadata": {},
   "outputs": [
    {
     "data": {
      "text/plain": [
       "numpy.datetime64('2020-08-23T00:00:04.211000000')"
      ]
     },
     "execution_count": 10,
     "metadata": {},
     "output_type": "execute_result"
    }
   ],
   "source": [
    "min(np.array(df_orders[\"created_at\"]))"
   ]
  },
  {
   "cell_type": "markdown",
   "id": "38aea0b0",
   "metadata": {},
   "source": [
    "All conclusions would be based on two days (2020-08-23 and 2020-08-24) performance in the same country and city with over 10k orders."
   ]
  },
  {
   "cell_type": "markdown",
   "id": "f812fefc",
   "metadata": {},
   "source": [
    "# Key Metrics"
   ]
  },
  {
   "attachments": {
    "image-2.png": {
     "image/png": "[encoded data removed]"
    }
   },
   "cell_type": "markdown",
   "id": "2c41b569",
   "metadata": {},
   "source": [
    "The delivery time could be divided by 6 parts:\n",
    "1) **system_delta** = sent_to_vendor_at - created_at\n",
    "- The timedelta between the order is made by customer and is sent to restaurant.\n",
    "\n",
    "2) **assign_delta** = rider_accepted_at - created_at\n",
    "- The timedelta between the order is sent to restaurant and is assigned to rider.\n",
    "\n",
    "3) **to_vendor_ride** = (rider_at_restaurant - rider_accepted_at) + 10 sec – consider 10 sec is time for 100m\n",
    "- The riding from point of the assignment to the restaurant.\n",
    "\n",
    "4) **cooking_waiting** = rider_picked_up_at – (rider_at_restaurant + 10 sec)\n",
    "- The timedelta of rider waiting at restaurant while the order is cooking.\n",
    "\n",
    "5) **to_customer_ride** = (rider_at_customer - rider_picked_up_at) + 10 sec\n",
    "- The riding from a restaurant to a customer\n",
    "\n",
    "6) **customer_waiting** = rider_dropped_off_at – (rider_at_customer + 10 sec)\n",
    "- The timedelta of rider waiting for customer to drop off the order.\n",
    "\n",
    "10 sec is the estimated time for 100m riding.\n",
    "\n",
    "![image-2.png](attachment:image-2.png)"
   ]
  },
  {
   "cell_type": "markdown",
   "id": "9cc44d99",
   "metadata": {},
   "source": [
    "Let's explore the metrics separetely and provide some conclusions at final step."
   ]
  },
  {
   "cell_type": "markdown",
   "id": "5c4dc411",
   "metadata": {},
   "source": [
    "# Data Preparation"
   ]
  },
  {
   "cell_type": "markdown",
   "id": "c4062e0e",
   "metadata": {},
   "source": [
    "Here we are going to make a dataset for all the metrics that were mentioned above. Only completed orders would be reviewed due to the small number of rejected orders for several reasons (198 out of 10483), it's not enough for any type of conclusion."
   ]
  },
  {
   "cell_type": "code",
   "execution_count": 11,
   "id": "6da51f01",
   "metadata": {},
   "outputs": [
    {
     "data": {
      "text/html": [
       "<div>\n",
       "<style scoped>\n",
       "    .dataframe tbody tr th:only-of-type {\n",
       "        vertical-align: middle;\n",
       "    }\n",
       "\n",
       "    .dataframe tbody tr th {\n",
       "        vertical-align: top;\n",
       "    }\n",
       "\n",
       "    .dataframe thead th {\n",
       "        text-align: right;\n",
       "    }\n",
       "</style>\n",
       "<table border=\"1\" class=\"dataframe\">\n",
       "  <thead>\n",
       "    <tr style=\"text-align: right;\">\n",
       "      <th></th>\n",
       "      <th>city_id</th>\n",
       "      <th>order_id</th>\n",
       "      <th>rider_id</th>\n",
       "      <th>delivery_time</th>\n",
       "      <th>system_delta</th>\n",
       "      <th>assign_delta</th>\n",
       "      <th>to_vendor_ride</th>\n",
       "      <th>cooking_waiting</th>\n",
       "      <th>to_customer_ride</th>\n",
       "      <th>customer_waiting</th>\n",
       "      <th>picked_model</th>\n",
       "      <th>picked_model_ride</th>\n",
       "      <th>promise_model</th>\n",
       "      <th>cooking_time</th>\n",
       "    </tr>\n",
       "  </thead>\n",
       "  <tbody>\n",
       "    <tr>\n",
       "      <th>0</th>\n",
       "      <td>3</td>\n",
       "      <td>39051621</td>\n",
       "      <td>523041.0</td>\n",
       "      <td>18.52</td>\n",
       "      <td>0.32</td>\n",
       "      <td>1.85</td>\n",
       "      <td>3.30</td>\n",
       "      <td>4.63</td>\n",
       "      <td>4.17</td>\n",
       "      <td>4.22</td>\n",
       "      <td>0.78</td>\n",
       "      <td>-3.83</td>\n",
       "      <td>0.58</td>\n",
       "      <td>10.28</td>\n",
       "    </tr>\n",
       "    <tr>\n",
       "      <th>1</th>\n",
       "      <td>3</td>\n",
       "      <td>39050491</td>\n",
       "      <td>523041.0</td>\n",
       "      <td>23.13</td>\n",
       "      <td>4.68</td>\n",
       "      <td>-1.47</td>\n",
       "      <td>4.53</td>\n",
       "      <td>1.57</td>\n",
       "      <td>6.03</td>\n",
       "      <td>7.77</td>\n",
       "      <td>-5.35</td>\n",
       "      <td>-6.92</td>\n",
       "      <td>3.20</td>\n",
       "      <td>9.48</td>\n",
       "    </tr>\n",
       "    <tr>\n",
       "      <th>2</th>\n",
       "      <td>3</td>\n",
       "      <td>39047690</td>\n",
       "      <td>523041.0</td>\n",
       "      <td>49.98</td>\n",
       "      <td>0.63</td>\n",
       "      <td>4.37</td>\n",
       "      <td>5.22</td>\n",
       "      <td>24.42</td>\n",
       "      <td>5.75</td>\n",
       "      <td>9.55</td>\n",
       "      <td>-6.65</td>\n",
       "      <td>-31.08</td>\n",
       "      <td>22.02</td>\n",
       "      <td>34.82</td>\n",
       "    </tr>\n",
       "    <tr>\n",
       "      <th>3</th>\n",
       "      <td>3</td>\n",
       "      <td>39046074</td>\n",
       "      <td>523041.0</td>\n",
       "      <td>25.25</td>\n",
       "      <td>1.95</td>\n",
       "      <td>0.65</td>\n",
       "      <td>5.42</td>\n",
       "      <td>5.97</td>\n",
       "      <td>6.05</td>\n",
       "      <td>5.17</td>\n",
       "      <td>-19.90</td>\n",
       "      <td>-25.87</td>\n",
       "      <td>9.30</td>\n",
       "      <td>14.18</td>\n",
       "    </tr>\n",
       "    <tr>\n",
       "      <th>4</th>\n",
       "      <td>3</td>\n",
       "      <td>39044703</td>\n",
       "      <td>523041.0</td>\n",
       "      <td>18.80</td>\n",
       "      <td>3.28</td>\n",
       "      <td>0.93</td>\n",
       "      <td>3.93</td>\n",
       "      <td>1.78</td>\n",
       "      <td>8.05</td>\n",
       "      <td>0.77</td>\n",
       "      <td>0.67</td>\n",
       "      <td>-1.12</td>\n",
       "      <td>2.85</td>\n",
       "      <td>10.13</td>\n",
       "    </tr>\n",
       "  </tbody>\n",
       "</table>\n",
       "</div>"
      ],
      "text/plain": [
       "   city_id  order_id  rider_id  delivery_time  system_delta  assign_delta  \\\n",
       "0        3  39051621  523041.0          18.52          0.32          1.85   \n",
       "1        3  39050491  523041.0          23.13          4.68         -1.47   \n",
       "2        3  39047690  523041.0          49.98          0.63          4.37   \n",
       "3        3  39046074  523041.0          25.25          1.95          0.65   \n",
       "4        3  39044703  523041.0          18.80          3.28          0.93   \n",
       "\n",
       "   to_vendor_ride  cooking_waiting  to_customer_ride  customer_waiting  \\\n",
       "0            3.30             4.63              4.17              4.22   \n",
       "1            4.53             1.57              6.03              7.77   \n",
       "2            5.22            24.42              5.75              9.55   \n",
       "3            5.42             5.97              6.05              5.17   \n",
       "4            3.93             1.78              8.05              0.77   \n",
       "\n",
       "   picked_model  picked_model_ride  promise_model  cooking_time  \n",
       "0          0.78              -3.83           0.58         10.28  \n",
       "1         -5.35              -6.92           3.20          9.48  \n",
       "2         -6.65             -31.08          22.02         34.82  \n",
       "3        -19.90             -25.87           9.30         14.18  \n",
       "4          0.67              -1.12           2.85         10.13  "
      ]
     },
     "execution_count": 11,
     "metadata": {},
     "output_type": "execute_result"
    }
   ],
   "source": [
    "df_metrics = df_orders.copy()\n",
    "df_metrics = df_metrics.query(\"order_status == 'completed'\").reset_index()\n",
    "df_metrics[\"system_delta\"] = round(((df_metrics[\"sent_to_vendor_at\"] - df_metrics[\"created_at\"]).dt.seconds) / 60, 2)\n",
    "df_metrics[\"to_vendor_ride\"] = round(((df_metrics[\"rider_at_restaurant\"] - df_metrics[\"rider_accepted_at\"]).dt.seconds + 10) / 60, 2)\n",
    "df_metrics[\"cooking_waiting\"] = round(((df_metrics[\"rider_picked_up_at\"] - df_metrics[\"rider_at_restaurant\"]).dt.seconds - 10) / 60, 2)\n",
    "df_metrics[\"to_customer_ride\"] = round(((df_metrics[\"rider_at_customer\"] - df_metrics[\"rider_picked_up_at\"]).dt.seconds + 10) / 60, 2)\n",
    "df_metrics[\"customer_waiting\"] = round(((df_metrics[\"rider_dropped_off_at\"] - df_metrics[\"rider_at_customer\"]).dt.seconds - 10) / 60, 2)\n",
    "df_metrics[\"cooking_time\"] = round(((df_metrics[\"rider_picked_up_at\"] - df_metrics[\"created_at\"]).dt.seconds + 10) / 60, 2)\n",
    "\n",
    "df_metrics[\"delivery_time\"] = round((df_metrics[\"rider_dropped_off_at\"] - df_metrics[\"created_at\"]).dt.seconds / 60, 2)\n",
    "\n",
    "df_metrics[\"assign_delta_one\"] = (df_metrics[\"rider_accepted_at\"] - df_metrics[\"sent_to_vendor_at\"]).dt.seconds\n",
    "df_metrics[\"assign_delta_two\"] = (df_metrics[\"sent_to_vendor_at\"] - df_metrics[\"rider_accepted_at\"]).dt.seconds\n",
    "\n",
    "df_metrics[\"picked_model_one\"] = (df_metrics[\"rider_picked_up_at\"] - df_metrics[\"expected_pickup_at\"]).dt.seconds\n",
    "df_metrics[\"picked_model_two\"] = (df_metrics[\"expected_pickup_at\"] - df_metrics[\"rider_picked_up_at\"]).dt.seconds\n",
    "\n",
    "df_metrics[\"picked_model_ride_one\"] = (df_metrics[\"rider_at_restaurant\"] - df_metrics[\"expected_pickup_at\"]).dt.seconds + 10\n",
    "df_metrics[\"picked_model_ride_two\"] = (df_metrics[\"expected_pickup_at\"] - df_metrics[\"rider_at_restaurant\"]).dt.seconds - 10\n",
    "\n",
    "df_metrics[\"promise_model_one\"] = (df_metrics[\"rider_dropped_off_at\"] - df_metrics[\"promised_delivery_time\"]).dt.seconds\n",
    "df_metrics[\"promise_model_two\"] = (df_metrics[\"promised_delivery_time\"] - df_metrics[\"rider_dropped_off_at\"]).dt.seconds\n",
    "\n",
    "for i in range(df_metrics.shape[0]):\n",
    "    \n",
    "    if df_metrics.at[i, \"assign_delta_one\"] >= df_metrics.at[i, \"assign_delta_two\"]: \n",
    "        df_metrics.at[i, \"assign_delta\"] = round(df_metrics.at[i, \"assign_delta_two\"] * (-1) / 60, 2)\n",
    "    else:\n",
    "        df_metrics.at[i, \"assign_delta\"] = round(df_metrics.at[i, \"assign_delta_one\"] / 60, 2)\n",
    "    \n",
    "    if df_metrics.at[i, \"picked_model_one\"] >= df_metrics.at[i, \"picked_model_two\"]: \n",
    "        df_metrics.at[i, \"picked_model\"] = round(df_metrics.at[i, \"picked_model_two\"] * (-1) / 60, 2)\n",
    "    else:\n",
    "        df_metrics.at[i, \"picked_model\"] = round(df_metrics.at[i, \"picked_model_one\"] / 60, 2)\n",
    "\n",
    "    if df_metrics.at[i, \"picked_model_ride_one\"] >= df_metrics.at[i, \"picked_model_ride_two\"]: \n",
    "        df_metrics.at[i, \"picked_model_ride\"] = round(df_metrics.at[i, \"picked_model_ride_two\"] * (-1) / 60, 2)\n",
    "    else:\n",
    "        df_metrics.at[i, \"picked_model_ride\"] = round(df_metrics.at[i, \"picked_model_ride_one\"] / 60, 2)        \n",
    "        \n",
    "    if df_metrics.at[i, \"promise_model_one\"] >= df_metrics.at[i, \"promise_model_two\"]: \n",
    "        df_metrics.at[i, \"promise_model\"] = round(df_metrics.at[i, \"promise_model_two\"] * (-1) / 60, 2)\n",
    "    else:\n",
    "        df_metrics.at[i, \"promise_model\"] = round(df_metrics.at[i, \"promise_model_one\"] / 60, 2)\n",
    "\n",
    "df_metrics_all = df_metrics.copy()\n",
    "df_metrics = df_metrics[[\n",
    "    \"city_id\", \"order_id\", \"rider_id\", \"delivery_time\", \"system_delta\", \"assign_delta\", \n",
    "    \"to_vendor_ride\", \"cooking_waiting\", \"to_customer_ride\", \"customer_waiting\", \"picked_model\", \n",
    "    \"picked_model_ride\", \"promise_model\", \"cooking_time\"\n",
    "]]\n",
    "df_metrics.head()"
   ]
  },
  {
   "cell_type": "markdown",
   "id": "2a330cc3",
   "metadata": {},
   "source": [
    "# Metrics distribution"
   ]
  },
  {
   "cell_type": "markdown",
   "id": "6cc84258",
   "metadata": {},
   "source": [
    "All parts of delivery time are distributed somehow. Here we're going to evaluate the average, median and top 80% of orders."
   ]
  },
  {
   "cell_type": "code",
   "execution_count": 12,
   "id": "142d29eb",
   "metadata": {},
   "outputs": [
    {
     "data": {
      "text/html": [
       "<div>\n",
       "<style scoped>\n",
       "    .dataframe tbody tr th:only-of-type {\n",
       "        vertical-align: middle;\n",
       "    }\n",
       "\n",
       "    .dataframe tbody tr th {\n",
       "        vertical-align: top;\n",
       "    }\n",
       "\n",
       "    .dataframe thead th {\n",
       "        text-align: right;\n",
       "    }\n",
       "</style>\n",
       "<table border=\"1\" class=\"dataframe\">\n",
       "  <thead>\n",
       "    <tr style=\"text-align: right;\">\n",
       "      <th></th>\n",
       "      <th>city_id</th>\n",
       "      <th>order_id</th>\n",
       "      <th>rider_id</th>\n",
       "      <th>delivery_time</th>\n",
       "      <th>system_delta</th>\n",
       "      <th>assign_delta</th>\n",
       "      <th>to_vendor_ride</th>\n",
       "      <th>cooking_waiting</th>\n",
       "      <th>to_customer_ride</th>\n",
       "      <th>customer_waiting</th>\n",
       "      <th>picked_model</th>\n",
       "      <th>picked_model_ride</th>\n",
       "      <th>promise_model</th>\n",
       "      <th>cooking_time</th>\n",
       "      <th>aggregation</th>\n",
       "    </tr>\n",
       "  </thead>\n",
       "  <tbody>\n",
       "    <tr>\n",
       "      <th>0</th>\n",
       "      <td>3</td>\n",
       "      <td>3.887166e+07</td>\n",
       "      <td>385850.000000</td>\n",
       "      <td>23.120000</td>\n",
       "      <td>1.400000</td>\n",
       "      <td>0.670000</td>\n",
       "      <td>2.220000</td>\n",
       "      <td>6.250000</td>\n",
       "      <td>5.820</td>\n",
       "      <td>2.320000</td>\n",
       "      <td>-1.080000</td>\n",
       "      <td>-6.820000</td>\n",
       "      <td>3.350000</td>\n",
       "      <td>13.470000</td>\n",
       "      <td>median</td>\n",
       "    </tr>\n",
       "    <tr>\n",
       "      <th>0</th>\n",
       "      <td>3</td>\n",
       "      <td>3.887585e+07</td>\n",
       "      <td>345896.434137</td>\n",
       "      <td>26.601298</td>\n",
       "      <td>3.348019</td>\n",
       "      <td>2.220027</td>\n",
       "      <td>2.796398</td>\n",
       "      <td>8.162341</td>\n",
       "      <td>6.769</td>\n",
       "      <td>3.276593</td>\n",
       "      <td>-2.241457</td>\n",
       "      <td>-10.421124</td>\n",
       "      <td>5.102529</td>\n",
       "      <td>16.711844</td>\n",
       "      <td>mean</td>\n",
       "    </tr>\n",
       "    <tr>\n",
       "      <th>0</th>\n",
       "      <td>3</td>\n",
       "      <td>3.900525e+07</td>\n",
       "      <td>413702.000000</td>\n",
       "      <td>32.580000</td>\n",
       "      <td>2.100000</td>\n",
       "      <td>4.100000</td>\n",
       "      <td>4.620000</td>\n",
       "      <td>12.046000</td>\n",
       "      <td>9.920</td>\n",
       "      <td>4.880000</td>\n",
       "      <td>1.750000</td>\n",
       "      <td>-3.250000</td>\n",
       "      <td>10.022000</td>\n",
       "      <td>20.596000</td>\n",
       "      <td>Q 80%</td>\n",
       "    </tr>\n",
       "  </tbody>\n",
       "</table>\n",
       "</div>"
      ],
      "text/plain": [
       "   city_id      order_id       rider_id  delivery_time  system_delta  \\\n",
       "0        3  3.887166e+07  385850.000000      23.120000      1.400000   \n",
       "0        3  3.887585e+07  345896.434137      26.601298      3.348019   \n",
       "0        3  3.900525e+07  413702.000000      32.580000      2.100000   \n",
       "\n",
       "   assign_delta  to_vendor_ride  cooking_waiting  to_customer_ride  \\\n",
       "0      0.670000        2.220000         6.250000             5.820   \n",
       "0      2.220027        2.796398         8.162341             6.769   \n",
       "0      4.100000        4.620000        12.046000             9.920   \n",
       "\n",
       "   customer_waiting  picked_model  picked_model_ride  promise_model  \\\n",
       "0          2.320000     -1.080000          -6.820000       3.350000   \n",
       "0          3.276593     -2.241457         -10.421124       5.102529   \n",
       "0          4.880000      1.750000          -3.250000      10.022000   \n",
       "\n",
       "   cooking_time aggregation  \n",
       "0     13.470000      median  \n",
       "0     16.711844        mean  \n",
       "0     20.596000       Q 80%  "
      ]
     },
     "execution_count": 12,
     "metadata": {},
     "output_type": "execute_result"
    }
   ],
   "source": [
    "df_metrics_mean = df_metrics.groupby(\"city_id\").mean().reset_index()\n",
    "df_metrics_mean[\"aggregation\"] = \"mean\"\n",
    "\n",
    "df_metrics_med = df_metrics.groupby(\"city_id\").median().reset_index()\n",
    "df_metrics_med[\"aggregation\"] = \"median\"\n",
    "\n",
    "df_metrics_q = df_metrics.groupby(\"city_id\").quantile(q=0.8).reset_index()\n",
    "df_metrics_q[\"aggregation\"] = \"Q 80%\"\n",
    "\n",
    "df_metrics_agg = pd.concat([df_metrics_med, df_metrics_mean, df_metrics_q])\n",
    "df_metrics_agg"
   ]
  },
  {
   "cell_type": "code",
   "execution_count": 13,
   "id": "fb26bb44",
   "metadata": {},
   "outputs": [],
   "source": [
    "df_metrics_viz = pd.DataFrame()\n",
    "df_metrics_viz[\"aggregation\"] = df_metrics_agg[\"aggregation\"]\n",
    "df_metrics_viz[\"system_delta\"] = df_metrics_agg[\"system_delta\"]\n",
    "df_metrics_viz[\"assign_delta\"] = df_metrics_agg[\"system_delta\"] + df_metrics_agg[\"assign_delta\"]\n",
    "df_metrics_viz[\"to_vendor_ride\"] = df_metrics_agg[\"system_delta\"] + df_metrics_agg[\"assign_delta\"] + df_metrics_agg[\"to_vendor_ride\"] \n",
    "df_metrics_viz[\"cooking_waiting\"] = df_metrics_agg[\"system_delta\"] + df_metrics_agg[\"assign_delta\"] + df_metrics_agg[\"to_vendor_ride\"] + df_metrics_agg[\"cooking_waiting\"]\n",
    "df_metrics_viz[\"to_customer_ride\"] = df_metrics_agg[\"system_delta\"] + df_metrics_agg[\"assign_delta\"] + df_metrics_agg[\"to_vendor_ride\"] + df_metrics_agg[\"cooking_waiting\"] + df_metrics_agg[\"to_customer_ride\"]\n",
    "df_metrics_viz[\"customer_waiting\"] = df_metrics_agg[\"system_delta\"] + df_metrics_agg[\"assign_delta\"] + df_metrics_agg[\"to_vendor_ride\"] + df_metrics_agg[\"cooking_waiting\"] + df_metrics_agg[\"to_customer_ride\"] + df_metrics_agg[\"customer_waiting\"]"
   ]
  },
  {
   "cell_type": "code",
   "execution_count": 14,
   "id": "0a72391d",
   "metadata": {},
   "outputs": [
    {
     "data": {
      "text/plain": [
       "<matplotlib.legend.Legend at 0x217511c9eb0>"
      ]
     },
     "execution_count": 14,
     "metadata": {},
     "output_type": "execute_result"
    },
    {
     "data": {
      "image/png": "[encoded data removed]",
      "text/plain": [
       "<Figure size 1080x432 with 1 Axes>"
      ]
     },
     "metadata": {
      "needs_background": "light"
     },
     "output_type": "display_data"
    }
   ],
   "source": [
    "bar_agg = sns.barplot(\n",
    "    data = df_metrics_viz\n",
    "    , y = \"aggregation\"\n",
    "    , x = \"customer_waiting\"\n",
    "    , ci = None\n",
    "    , palette = ['#38761d']\n",
    "    , label = \"customer_waiting\"\n",
    "    , orient = \"h\"\n",
    ")\n",
    "\n",
    "bar_agg = sns.barplot(\n",
    "    data = df_metrics_viz\n",
    "    , y = \"aggregation\"\n",
    "    , x = \"to_customer_ride\"\n",
    "    , ci = None\n",
    "    , palette = ['#b6d7a8']\n",
    "    , label = \"to_customer_ride\"\n",
    "    , orient = \"h\"\n",
    ")\n",
    "\n",
    "bar_agg = sns.barplot(\n",
    "    data = df_metrics_viz\n",
    "    , y = \"aggregation\"\n",
    "    , x = \"cooking_waiting\"\n",
    "    , ci = None\n",
    "    , palette = ['#fff2cc']\n",
    "    , label = \"cooking_waiting\"\n",
    "    , orient = \"h\"\n",
    ")\n",
    "\n",
    "bar_agg = sns.barplot(\n",
    "    data = df_metrics_viz\n",
    "    , y = \"aggregation\"\n",
    "    , x = \"to_vendor_ride\"\n",
    "    , ci = None\n",
    "    , palette = ['#f1c232']\n",
    "    , label = \"to_vendor_ride\"\n",
    "    , orient = \"h\"\n",
    ")\n",
    "\n",
    "bar_agg = sns.barplot(\n",
    "    data = df_metrics_viz\n",
    "    , y = \"aggregation\"\n",
    "    , x = \"assign_delta\"\n",
    "    , ci = None\n",
    "    , palette = ['#bf9000']\n",
    "    , label = \"assign_delta\"\n",
    "    , orient = \"h\"\n",
    ")\n",
    "\n",
    "bar_agg = sns.barplot(\n",
    "    data = df_metrics_viz\n",
    "    , y = \"aggregation\"\n",
    "    , x = \"system_delta\"\n",
    "    , ci = None\n",
    "    , palette = ['#ce7e00']\n",
    "    , label = \"system_delta\"\n",
    "    , orient = \"h\"\n",
    ")\n",
    "\n",
    "for p in bar_agg.patches:\n",
    "    bar_agg.annotate(\n",
    "        format(p.get_width(), '.0f')\n",
    "        , (p.get_width() - 0.5, p.get_y() + 0.4 * p.get_height() ) \n",
    "        , ha='center'\n",
    "        , va='center'\n",
    "        , xytext=(0, -10)\n",
    "        , textcoords='offset points'\n",
    "        , color = 'black'\n",
    "        , fontweight =\"bold\"\n",
    "        , size = 10\n",
    "    )\n",
    "\n",
    "bar_agg.set_title(\"Partition of order steps: cumulative sum\", fontweight =\"bold\", size = 16)\n",
    "bar_agg.set_xlabel(\"Order timeline\", fontweight =\"bold\", size = 12)\n",
    "bar_agg.set_ylabel(\"Aggregation type\", fontweight =\"bold\", size = 12)\n",
    "\n",
    "bar_agg.legend(ncol = 1, loc=\"upper right\", frameon=True)"
   ]
  },
  {
   "attachments": {},
   "cell_type": "markdown",
   "id": "21c58ad4",
   "metadata": {},
   "source": [
    "All values above are provided in minutes. \n",
    "\n",
    "The average (mean) delivery time is 26.6 min, the median is 23.1 min and 80% of orders are delivered in less than 32.6 min.\n",
    "\n",
    "Just in case: the mean delivery time is the sum of all mean steps, but it doesn’t work for any percentiles. \n",
    "\n",
    "Also, I want to mention that system_delta is not a part of UTR but it could influence on the entire delivery time."
   ]
  },
  {
   "cell_type": "code",
   "execution_count": 312,
   "id": "fed11d86",
   "metadata": {},
   "outputs": [
    {
     "data": {
      "text/html": [
       "<div>\n",
       "<style scoped>\n",
       "    .dataframe tbody tr th:only-of-type {\n",
       "        vertical-align: middle;\n",
       "    }\n",
       "\n",
       "    .dataframe tbody tr th {\n",
       "        vertical-align: top;\n",
       "    }\n",
       "\n",
       "    .dataframe thead th {\n",
       "        text-align: right;\n",
       "    }\n",
       "</style>\n",
       "<table border=\"1\" class=\"dataframe\">\n",
       "  <thead>\n",
       "    <tr style=\"text-align: right;\">\n",
       "      <th></th>\n",
       "      <th>delivery_time</th>\n",
       "      <th>ride</th>\n",
       "      <th>not_ride</th>\n",
       "      <th>dlv</th>\n",
       "      <th>ride_pcnt</th>\n",
       "    </tr>\n",
       "  </thead>\n",
       "  <tbody>\n",
       "    <tr>\n",
       "      <th>0</th>\n",
       "      <td>18.52</td>\n",
       "      <td>7.47</td>\n",
       "      <td>11.02</td>\n",
       "      <td>18.49</td>\n",
       "      <td>0.404002</td>\n",
       "    </tr>\n",
       "    <tr>\n",
       "      <th>1</th>\n",
       "      <td>23.13</td>\n",
       "      <td>10.56</td>\n",
       "      <td>12.55</td>\n",
       "      <td>23.11</td>\n",
       "      <td>0.456945</td>\n",
       "    </tr>\n",
       "    <tr>\n",
       "      <th>2</th>\n",
       "      <td>49.98</td>\n",
       "      <td>10.97</td>\n",
       "      <td>38.97</td>\n",
       "      <td>49.94</td>\n",
       "      <td>0.219664</td>\n",
       "    </tr>\n",
       "    <tr>\n",
       "      <th>3</th>\n",
       "      <td>25.25</td>\n",
       "      <td>11.47</td>\n",
       "      <td>13.74</td>\n",
       "      <td>25.21</td>\n",
       "      <td>0.454978</td>\n",
       "    </tr>\n",
       "    <tr>\n",
       "      <th>4</th>\n",
       "      <td>18.80</td>\n",
       "      <td>11.98</td>\n",
       "      <td>6.76</td>\n",
       "      <td>18.74</td>\n",
       "      <td>0.639274</td>\n",
       "    </tr>\n",
       "  </tbody>\n",
       "</table>\n",
       "</div>"
      ],
      "text/plain": [
       "   delivery_time   ride  not_ride    dlv  ride_pcnt\n",
       "0          18.52   7.47     11.02  18.49   0.404002\n",
       "1          23.13  10.56     12.55  23.11   0.456945\n",
       "2          49.98  10.97     38.97  49.94   0.219664\n",
       "3          25.25  11.47     13.74  25.21   0.454978\n",
       "4          18.80  11.98      6.76  18.74   0.639274"
      ]
     },
     "execution_count": 312,
     "metadata": {},
     "output_type": "execute_result"
    }
   ],
   "source": [
    "df_metrics_count = pd.DataFrame()\n",
    "df_metrics_count[\"delivery_time\"] = df_metrics[\"delivery_time\"]\n",
    "df_metrics_count[\"ride\"] = df_metrics[\"to_vendor_ride\"] + df_metrics[\"to_customer_ride\"]\n",
    "df_metrics_count[\"not_ride\"] = df_metrics[\"system_delta\"] + df_metrics[\"assign_delta\"] + df_metrics[\"cooking_waiting\"] + df_metrics[\"customer_waiting\"]\n",
    "df_metrics_count[\"dlv\"] = df_metrics_count[\"ride\"] + df_metrics_count[\"not_ride\"] \n",
    "df_metrics_count[\"ride_pcnt\"] = df_metrics_count[\"ride\"] / df_metrics_count[\"dlv\"]\n",
    "df_metrics_count.head()"
   ]
  },
  {
   "cell_type": "code",
   "execution_count": 313,
   "id": "a75b8667",
   "metadata": {},
   "outputs": [
    {
     "data": {
      "text/plain": [
       "0.38722808809483256"
      ]
     },
     "execution_count": 313,
     "metadata": {},
     "output_type": "execute_result"
    }
   ],
   "source": [
    "np.mean(df_metrics_count[\"ride_pcnt\"])"
   ]
  },
  {
   "cell_type": "markdown",
   "id": "6be7801b",
   "metadata": {},
   "source": [
    "Only 38.7% of delivery time is spent on rides.\n",
    "\n",
    "Due two only 2 days in dataset and unexisting of some geoanalytics I'm not going to evaluate riders performance in terms of how fast they are. More than half of delivery time is dedicated to some system and waiting issues, so let's research them."
   ]
  },
  {
   "cell_type": "markdown",
   "id": "2bf8ce43",
   "metadata": {},
   "source": [
    "# System_delta"
   ]
  },
  {
   "cell_type": "markdown",
   "id": "6821ed76",
   "metadata": {},
   "source": [
    "As it was mentioned preiously that's the timedelta between the order is made by customer and is sent to restaurant.\n",
    "\n",
    "I'm going to figure out the correlation with time of order and take a look at the overall distribution. All results below are provided in seconds."
   ]
  },
  {
   "cell_type": "code",
   "execution_count": 15,
   "id": "7a00679f",
   "metadata": {},
   "outputs": [
    {
     "data": {
      "text/html": [
       "<div>\n",
       "<style scoped>\n",
       "    .dataframe tbody tr th:only-of-type {\n",
       "        vertical-align: middle;\n",
       "    }\n",
       "\n",
       "    .dataframe tbody tr th {\n",
       "        vertical-align: top;\n",
       "    }\n",
       "\n",
       "    .dataframe thead th {\n",
       "        text-align: right;\n",
       "    }\n",
       "</style>\n",
       "<table border=\"1\" class=\"dataframe\">\n",
       "  <thead>\n",
       "    <tr style=\"text-align: right;\">\n",
       "      <th></th>\n",
       "      <th>created_at</th>\n",
       "      <th>system_delta</th>\n",
       "      <th>value</th>\n",
       "    </tr>\n",
       "  </thead>\n",
       "  <tbody>\n",
       "    <tr>\n",
       "      <th>0</th>\n",
       "      <td>2020-08-24 14:40:25.237</td>\n",
       "      <td>19.2</td>\n",
       "      <td>system_delta</td>\n",
       "    </tr>\n",
       "    <tr>\n",
       "      <th>1</th>\n",
       "      <td>2020-08-24 14:18:07.725</td>\n",
       "      <td>280.8</td>\n",
       "      <td>system_delta</td>\n",
       "    </tr>\n",
       "    <tr>\n",
       "      <th>2</th>\n",
       "      <td>2020-08-24 13:31:05.873</td>\n",
       "      <td>37.8</td>\n",
       "      <td>system_delta</td>\n",
       "    </tr>\n",
       "    <tr>\n",
       "      <th>3</th>\n",
       "      <td>2020-08-24 13:10:31.513</td>\n",
       "      <td>117.0</td>\n",
       "      <td>system_delta</td>\n",
       "    </tr>\n",
       "    <tr>\n",
       "      <th>4</th>\n",
       "      <td>2020-08-24 12:53:40.676</td>\n",
       "      <td>196.8</td>\n",
       "      <td>system_delta</td>\n",
       "    </tr>\n",
       "  </tbody>\n",
       "</table>\n",
       "</div>"
      ],
      "text/plain": [
       "               created_at  system_delta         value\n",
       "0 2020-08-24 14:40:25.237          19.2  system_delta\n",
       "1 2020-08-24 14:18:07.725         280.8  system_delta\n",
       "2 2020-08-24 13:31:05.873          37.8  system_delta\n",
       "3 2020-08-24 13:10:31.513         117.0  system_delta\n",
       "4 2020-08-24 12:53:40.676         196.8  system_delta"
      ]
     },
     "execution_count": 15,
     "metadata": {},
     "output_type": "execute_result"
    }
   ],
   "source": [
    "df_system = pd.DataFrame()\n",
    "df_system[\"created_at\"] = df_metrics_all[\"created_at\"]\n",
    "df_system[\"system_delta\"] = df_metrics_all[\"system_delta\"] * 60\n",
    "df_system[\"value\"] = \"system_delta\"\n",
    "\n",
    "df_system.head()"
   ]
  },
  {
   "cell_type": "code",
   "execution_count": 16,
   "id": "93bb5069",
   "metadata": {},
   "outputs": [
    {
     "data": {
      "text/html": [
       "<div>\n",
       "<style scoped>\n",
       "    .dataframe tbody tr th:only-of-type {\n",
       "        vertical-align: middle;\n",
       "    }\n",
       "\n",
       "    .dataframe tbody tr th {\n",
       "        vertical-align: top;\n",
       "    }\n",
       "\n",
       "    .dataframe thead th {\n",
       "        text-align: right;\n",
       "    }\n",
       "</style>\n",
       "<table border=\"1\" class=\"dataframe\">\n",
       "  <thead>\n",
       "    <tr style=\"text-align: right;\">\n",
       "      <th></th>\n",
       "      <th>aggregation</th>\n",
       "      <th>system_delta</th>\n",
       "    </tr>\n",
       "  </thead>\n",
       "  <tbody>\n",
       "    <tr>\n",
       "      <th>0</th>\n",
       "      <td>median</td>\n",
       "      <td>84.000000</td>\n",
       "    </tr>\n",
       "    <tr>\n",
       "      <th>0</th>\n",
       "      <td>mean</td>\n",
       "      <td>200.881125</td>\n",
       "    </tr>\n",
       "    <tr>\n",
       "      <th>0</th>\n",
       "      <td>Q 80%</td>\n",
       "      <td>126.000000</td>\n",
       "    </tr>\n",
       "  </tbody>\n",
       "</table>\n",
       "</div>"
      ],
      "text/plain": [
       "  aggregation  system_delta\n",
       "0      median     84.000000\n",
       "0        mean    200.881125\n",
       "0       Q 80%    126.000000"
      ]
     },
     "execution_count": 16,
     "metadata": {},
     "output_type": "execute_result"
    }
   ],
   "source": [
    "df_system_mean = df_system.groupby(\"value\").mean().reset_index()\n",
    "df_system_mean[\"aggregation\"] = \"mean\"\n",
    "df_system_mean = df_system_mean[[\"aggregation\", \"system_delta\"]]\n",
    "\n",
    "df_system_med = df_system.groupby(\"value\").median().reset_index()\n",
    "df_system_med[\"aggregation\"] = \"median\"\n",
    "df_system_med = df_system_med[[\"aggregation\", \"system_delta\"]]\n",
    "\n",
    "df_system_q = df_system.groupby(\"value\").quantile(q = 0.8).reset_index()\n",
    "df_system_q[\"aggregation\"] = \"Q 80%\"\n",
    "df_system_q = df_system_q[[\"aggregation\", \"system_delta\"]]\n",
    "\n",
    "df_system_agg = pd.concat([df_system_med, df_system_mean, df_system_q])\n",
    "df_system_agg"
   ]
  },
  {
   "cell_type": "code",
   "execution_count": 17,
   "id": "d2d965d9",
   "metadata": {},
   "outputs": [
    {
     "data": {
      "text/html": [
       "<div>\n",
       "<style scoped>\n",
       "    .dataframe tbody tr th:only-of-type {\n",
       "        vertical-align: middle;\n",
       "    }\n",
       "\n",
       "    .dataframe tbody tr th {\n",
       "        vertical-align: top;\n",
       "    }\n",
       "\n",
       "    .dataframe thead th {\n",
       "        text-align: right;\n",
       "    }\n",
       "</style>\n",
       "<table border=\"1\" class=\"dataframe\">\n",
       "  <thead>\n",
       "    <tr style=\"text-align: right;\">\n",
       "      <th></th>\n",
       "      <th>created_at</th>\n",
       "      <th>system_delta</th>\n",
       "      <th>value</th>\n",
       "      <th>created_str</th>\n",
       "      <th>hour</th>\n",
       "    </tr>\n",
       "  </thead>\n",
       "  <tbody>\n",
       "    <tr>\n",
       "      <th>0</th>\n",
       "      <td>2020-08-24 14:40:25.237</td>\n",
       "      <td>19.2</td>\n",
       "      <td>system_delta</td>\n",
       "      <td>2020-08-24 14:40:25.237</td>\n",
       "      <td>14</td>\n",
       "    </tr>\n",
       "    <tr>\n",
       "      <th>1</th>\n",
       "      <td>2020-08-24 14:18:07.725</td>\n",
       "      <td>280.8</td>\n",
       "      <td>system_delta</td>\n",
       "      <td>2020-08-24 14:18:07.725</td>\n",
       "      <td>14</td>\n",
       "    </tr>\n",
       "    <tr>\n",
       "      <th>2</th>\n",
       "      <td>2020-08-24 13:31:05.873</td>\n",
       "      <td>37.8</td>\n",
       "      <td>system_delta</td>\n",
       "      <td>2020-08-24 13:31:05.873</td>\n",
       "      <td>13</td>\n",
       "    </tr>\n",
       "    <tr>\n",
       "      <th>3</th>\n",
       "      <td>2020-08-24 13:10:31.513</td>\n",
       "      <td>117.0</td>\n",
       "      <td>system_delta</td>\n",
       "      <td>2020-08-24 13:10:31.513</td>\n",
       "      <td>13</td>\n",
       "    </tr>\n",
       "    <tr>\n",
       "      <th>4</th>\n",
       "      <td>2020-08-24 12:53:40.676</td>\n",
       "      <td>196.8</td>\n",
       "      <td>system_delta</td>\n",
       "      <td>2020-08-24 12:53:40.676</td>\n",
       "      <td>12</td>\n",
       "    </tr>\n",
       "  </tbody>\n",
       "</table>\n",
       "</div>"
      ],
      "text/plain": [
       "               created_at  system_delta         value  \\\n",
       "0 2020-08-24 14:40:25.237          19.2  system_delta   \n",
       "1 2020-08-24 14:18:07.725         280.8  system_delta   \n",
       "2 2020-08-24 13:31:05.873          37.8  system_delta   \n",
       "3 2020-08-24 13:10:31.513         117.0  system_delta   \n",
       "4 2020-08-24 12:53:40.676         196.8  system_delta   \n",
       "\n",
       "               created_str hour  \n",
       "0  2020-08-24 14:40:25.237   14  \n",
       "1  2020-08-24 14:18:07.725   14  \n",
       "2  2020-08-24 13:31:05.873   13  \n",
       "3  2020-08-24 13:10:31.513   13  \n",
       "4  2020-08-24 12:53:40.676   12  "
      ]
     },
     "execution_count": 17,
     "metadata": {},
     "output_type": "execute_result"
    }
   ],
   "source": [
    "df_system[\"created_str\"] = df_system[\"created_at\"].astype('string')\n",
    "#create numbers and names of days\n",
    "for i in range(df_system.shape[0]):\n",
    "    split_list = df_system.at[i, \"created_str\"].split(\" \")\n",
    "    time = split_list[1]\n",
    "    split_hour = time.split(\":\")\n",
    "    df_system.at[i, \"hour\"] = split_hour[0]    \n",
    "\n",
    "df_system.head()"
   ]
  },
  {
   "cell_type": "code",
   "execution_count": 18,
   "id": "5eed472b",
   "metadata": {},
   "outputs": [
    {
     "data": {
      "text/plain": [
       "<matplotlib.legend.Legend at 0x2174f88bd60>"
      ]
     },
     "execution_count": 18,
     "metadata": {},
     "output_type": "execute_result"
    },
    {
     "data": {
      "image/png": "[encoded data removed]",
      "text/plain": [
       "<Figure size 1080x432 with 1 Axes>"
      ]
     },
     "metadata": {
      "needs_background": "light"
     },
     "output_type": "display_data"
    }
   ],
   "source": [
    "df_system_bar = df_system.groupby(\"hour\").mean()[\"system_delta\"].reset_index()\n",
    "df_orders_count = df_system.groupby(\"hour\").count()[\"system_delta\"].reset_index()\n",
    "\n",
    "bar_system = sns.barplot(\n",
    "    data = df_system_bar\n",
    "    , x = \"hour\"\n",
    "    , y = \"system_delta\"\n",
    "    , ci = None\n",
    "    , palette = [\"#87bdef\"]\n",
    "    , label = \"system_delta, sec\"\n",
    ")\n",
    "\n",
    "for p in bar_system.patches:\n",
    "    bar_system.annotate(\n",
    "        format(p.get_height(), '.0f')\n",
    "        , (p.get_x() + p.get_width() / 2., p.get_height())\n",
    "        , ha = 'center'\n",
    "        , va = 'center'\n",
    "        , xytext = (0, -10)\n",
    "        , textcoords = 'offset points'\n",
    "        , color = 'black'\n",
    "        , fontweight =\"bold\"\n",
    "        , size = 9\n",
    "    )\n",
    "    \n",
    "    \n",
    "bar_system = sns.lineplot(\n",
    "    data = df_orders_count\n",
    "    , x = \"hour\"\n",
    "    , y = \"system_delta\"\n",
    "    , color = \"#efbb1d\"\n",
    "    , label = \"Orders dynamics\"\n",
    "    , ci = None\n",
    ")\n",
    "\n",
    "bar_system.set_title(\"Average system delta per order hour: time between order created and send to vendor\", fontweight =\"bold\", size = 16)\n",
    "bar_system.set_xlabel(\"Order hour, UTC\", fontweight =\"bold\", size = 12)\n",
    "bar_system.set_ylabel(\"Timedelta, seconds\", fontweight =\"bold\", size = 12)\n",
    "bar_system.legend(ncol = 3, loc = \"upper center\", frameon = True)"
   ]
  },
  {
   "cell_type": "code",
   "execution_count": 19,
   "id": "ea88f0c6",
   "metadata": {
    "scrolled": false
   },
   "outputs": [
    {
     "data": {
      "text/plain": [
       "<matplotlib.legend.Legend at 0x2175118a9d0>"
      ]
     },
     "execution_count": 19,
     "metadata": {},
     "output_type": "execute_result"
    },
    {
     "data": {
      "image/png": "[encoded data removed]",
      "text/plain": [
       "<Figure size 1080x432 with 1 Axes>"
      ]
     },
     "metadata": {
      "needs_background": "light"
     },
     "output_type": "display_data"
    }
   ],
   "source": [
    "df_system = df_system.query(\"system_delta < 300\")\n",
    "\n",
    "system_hist = sns.histplot(\n",
    "    df_system,\n",
    "    x=\"system_delta\",\n",
    "    palette=\"light:m_r\",\n",
    "    edgecolor=\".3\",\n",
    "    linewidth= 1,\n",
    ")\n",
    "\n",
    "plt.axvline(x = df_system_med.iloc[0][\"system_delta\"], color = 'green', linestyle = '--', label = 'median')\n",
    "plt.axvline(x = df_system_mean.iloc[0][\"system_delta\"], color = 'black', linestyle = '--', label = 'mean')\n",
    "plt.axvline(x = df_system_q.iloc[0][\"system_delta\"], color = 'orange', linestyle = '--', label = 'Q80')\n",
    "\n",
    "system_hist.set_title(\"Distribution of system delta: time between order created and send to vendor\", fontweight =\"bold\", size = 16)\n",
    "system_hist.set_xlabel(\"Timedelta, seconds\", fontweight =\"bold\", size = 12)\n",
    "system_hist.set_ylabel(\"Frequency\", fontweight =\"bold\", size = 12)\n",
    "\n",
    "system_hist.legend(ncol = 1, loc=\"upper right\", frameon=True)"
   ]
  },
  {
   "attachments": {},
   "cell_type": "markdown",
   "id": "4efdf1eb",
   "metadata": {},
   "source": [
    "The city of the issue belongs to UTC+8 timezone. We can see the large tail of the distribution, which corresponds to midnight. Due to the currently small number of night orders, it almost doesn’t influence the median (84 sec) and Q80 (126 sec) values but increases the average value (200 sec). It would be an issue when the order number rises.\n",
    "\n",
    "That’s the infrastructure problem, which adds an additional 2–3 minutes to delivery time."
   ]
  },
  {
   "cell_type": "markdown",
   "id": "5b7c5226",
   "metadata": {},
   "source": [
    "# Cooking_waiting"
   ]
  },
  {
   "cell_type": "markdown",
   "id": "10392c79",
   "metadata": {},
   "source": [
    "Some time is spent by rider at resaturant while the orders is cooking. I'm also going to figure out the distribution."
   ]
  },
  {
   "cell_type": "code",
   "execution_count": 361,
   "id": "68eeb45c",
   "metadata": {},
   "outputs": [
    {
     "data": {
      "text/html": [
       "<div>\n",
       "<style scoped>\n",
       "    .dataframe tbody tr th:only-of-type {\n",
       "        vertical-align: middle;\n",
       "    }\n",
       "\n",
       "    .dataframe tbody tr th {\n",
       "        vertical-align: top;\n",
       "    }\n",
       "\n",
       "    .dataframe thead th {\n",
       "        text-align: right;\n",
       "    }\n",
       "</style>\n",
       "<table border=\"1\" class=\"dataframe\">\n",
       "  <thead>\n",
       "    <tr style=\"text-align: right;\">\n",
       "      <th></th>\n",
       "      <th>created_at</th>\n",
       "      <th>cooking_waiting</th>\n",
       "      <th>value</th>\n",
       "    </tr>\n",
       "  </thead>\n",
       "  <tbody>\n",
       "    <tr>\n",
       "      <th>0</th>\n",
       "      <td>2020-08-24 14:40:25.237</td>\n",
       "      <td>4.63</td>\n",
       "      <td>cooking_waiting</td>\n",
       "    </tr>\n",
       "    <tr>\n",
       "      <th>1</th>\n",
       "      <td>2020-08-24 14:18:07.725</td>\n",
       "      <td>1.57</td>\n",
       "      <td>cooking_waiting</td>\n",
       "    </tr>\n",
       "    <tr>\n",
       "      <th>2</th>\n",
       "      <td>2020-08-24 13:31:05.873</td>\n",
       "      <td>24.42</td>\n",
       "      <td>cooking_waiting</td>\n",
       "    </tr>\n",
       "    <tr>\n",
       "      <th>3</th>\n",
       "      <td>2020-08-24 13:10:31.513</td>\n",
       "      <td>5.97</td>\n",
       "      <td>cooking_waiting</td>\n",
       "    </tr>\n",
       "    <tr>\n",
       "      <th>4</th>\n",
       "      <td>2020-08-24 12:53:40.676</td>\n",
       "      <td>1.78</td>\n",
       "      <td>cooking_waiting</td>\n",
       "    </tr>\n",
       "  </tbody>\n",
       "</table>\n",
       "</div>"
      ],
      "text/plain": [
       "               created_at  cooking_waiting            value\n",
       "0 2020-08-24 14:40:25.237             4.63  cooking_waiting\n",
       "1 2020-08-24 14:18:07.725             1.57  cooking_waiting\n",
       "2 2020-08-24 13:31:05.873            24.42  cooking_waiting\n",
       "3 2020-08-24 13:10:31.513             5.97  cooking_waiting\n",
       "4 2020-08-24 12:53:40.676             1.78  cooking_waiting"
      ]
     },
     "execution_count": 361,
     "metadata": {},
     "output_type": "execute_result"
    }
   ],
   "source": [
    "df_system = pd.DataFrame()\n",
    "df_system[\"created_at\"] = df_metrics_all[\"created_at\"]\n",
    "df_system[\"cooking_waiting\"] = df_metrics_all[\"cooking_waiting\"]\n",
    "df_system[\"value\"] = \"cooking_waiting\"\n",
    "\n",
    "df_system.head()"
   ]
  },
  {
   "cell_type": "code",
   "execution_count": 362,
   "id": "becd1b08",
   "metadata": {},
   "outputs": [
    {
     "data": {
      "text/html": [
       "<div>\n",
       "<style scoped>\n",
       "    .dataframe tbody tr th:only-of-type {\n",
       "        vertical-align: middle;\n",
       "    }\n",
       "\n",
       "    .dataframe tbody tr th {\n",
       "        vertical-align: top;\n",
       "    }\n",
       "\n",
       "    .dataframe thead th {\n",
       "        text-align: right;\n",
       "    }\n",
       "</style>\n",
       "<table border=\"1\" class=\"dataframe\">\n",
       "  <thead>\n",
       "    <tr style=\"text-align: right;\">\n",
       "      <th></th>\n",
       "      <th>aggregation</th>\n",
       "      <th>cooking_waiting</th>\n",
       "    </tr>\n",
       "  </thead>\n",
       "  <tbody>\n",
       "    <tr>\n",
       "      <th>0</th>\n",
       "      <td>median</td>\n",
       "      <td>6.250000</td>\n",
       "    </tr>\n",
       "    <tr>\n",
       "      <th>0</th>\n",
       "      <td>mean</td>\n",
       "      <td>8.162341</td>\n",
       "    </tr>\n",
       "    <tr>\n",
       "      <th>0</th>\n",
       "      <td>Q 80%</td>\n",
       "      <td>12.046000</td>\n",
       "    </tr>\n",
       "  </tbody>\n",
       "</table>\n",
       "</div>"
      ],
      "text/plain": [
       "  aggregation  cooking_waiting\n",
       "0      median         6.250000\n",
       "0        mean         8.162341\n",
       "0       Q 80%        12.046000"
      ]
     },
     "execution_count": 362,
     "metadata": {},
     "output_type": "execute_result"
    }
   ],
   "source": [
    "df_system_mean = df_system.groupby(\"value\").mean().reset_index()\n",
    "df_system_mean[\"aggregation\"] = \"mean\"\n",
    "df_system_mean = df_system_mean[[\"aggregation\", \"cooking_waiting\"]]\n",
    "\n",
    "df_system_med = df_system.groupby(\"value\").median().reset_index()\n",
    "df_system_med[\"aggregation\"] = \"median\"\n",
    "df_system_med = df_system_med[[\"aggregation\", \"cooking_waiting\"]]\n",
    "\n",
    "df_system_q = df_system.groupby(\"value\").quantile(q = 0.8).reset_index()\n",
    "df_system_q[\"aggregation\"] = \"Q 80%\"\n",
    "df_system_q = df_system_q[[\"aggregation\", \"cooking_waiting\"]]\n",
    "\n",
    "df_system_agg = pd.concat([df_system_med, df_system_mean, df_system_q])\n",
    "df_system_agg"
   ]
  },
  {
   "cell_type": "code",
   "execution_count": 363,
   "id": "b11a316e",
   "metadata": {},
   "outputs": [
    {
     "data": {
      "text/html": [
       "<div>\n",
       "<style scoped>\n",
       "    .dataframe tbody tr th:only-of-type {\n",
       "        vertical-align: middle;\n",
       "    }\n",
       "\n",
       "    .dataframe tbody tr th {\n",
       "        vertical-align: top;\n",
       "    }\n",
       "\n",
       "    .dataframe thead th {\n",
       "        text-align: right;\n",
       "    }\n",
       "</style>\n",
       "<table border=\"1\" class=\"dataframe\">\n",
       "  <thead>\n",
       "    <tr style=\"text-align: right;\">\n",
       "      <th></th>\n",
       "      <th>created_at</th>\n",
       "      <th>cooking_waiting</th>\n",
       "      <th>value</th>\n",
       "      <th>created_str</th>\n",
       "      <th>hour</th>\n",
       "    </tr>\n",
       "  </thead>\n",
       "  <tbody>\n",
       "    <tr>\n",
       "      <th>0</th>\n",
       "      <td>2020-08-24 14:40:25.237</td>\n",
       "      <td>4.63</td>\n",
       "      <td>cooking_waiting</td>\n",
       "      <td>2020-08-24 14:40:25.237</td>\n",
       "      <td>14</td>\n",
       "    </tr>\n",
       "    <tr>\n",
       "      <th>1</th>\n",
       "      <td>2020-08-24 14:18:07.725</td>\n",
       "      <td>1.57</td>\n",
       "      <td>cooking_waiting</td>\n",
       "      <td>2020-08-24 14:18:07.725</td>\n",
       "      <td>14</td>\n",
       "    </tr>\n",
       "    <tr>\n",
       "      <th>2</th>\n",
       "      <td>2020-08-24 13:31:05.873</td>\n",
       "      <td>24.42</td>\n",
       "      <td>cooking_waiting</td>\n",
       "      <td>2020-08-24 13:31:05.873</td>\n",
       "      <td>13</td>\n",
       "    </tr>\n",
       "    <tr>\n",
       "      <th>3</th>\n",
       "      <td>2020-08-24 13:10:31.513</td>\n",
       "      <td>5.97</td>\n",
       "      <td>cooking_waiting</td>\n",
       "      <td>2020-08-24 13:10:31.513</td>\n",
       "      <td>13</td>\n",
       "    </tr>\n",
       "    <tr>\n",
       "      <th>4</th>\n",
       "      <td>2020-08-24 12:53:40.676</td>\n",
       "      <td>1.78</td>\n",
       "      <td>cooking_waiting</td>\n",
       "      <td>2020-08-24 12:53:40.676</td>\n",
       "      <td>12</td>\n",
       "    </tr>\n",
       "  </tbody>\n",
       "</table>\n",
       "</div>"
      ],
      "text/plain": [
       "               created_at  cooking_waiting            value  \\\n",
       "0 2020-08-24 14:40:25.237             4.63  cooking_waiting   \n",
       "1 2020-08-24 14:18:07.725             1.57  cooking_waiting   \n",
       "2 2020-08-24 13:31:05.873            24.42  cooking_waiting   \n",
       "3 2020-08-24 13:10:31.513             5.97  cooking_waiting   \n",
       "4 2020-08-24 12:53:40.676             1.78  cooking_waiting   \n",
       "\n",
       "               created_str hour  \n",
       "0  2020-08-24 14:40:25.237   14  \n",
       "1  2020-08-24 14:18:07.725   14  \n",
       "2  2020-08-24 13:31:05.873   13  \n",
       "3  2020-08-24 13:10:31.513   13  \n",
       "4  2020-08-24 12:53:40.676   12  "
      ]
     },
     "execution_count": 363,
     "metadata": {},
     "output_type": "execute_result"
    }
   ],
   "source": [
    "df_system[\"created_str\"] = df_system[\"created_at\"].astype('string')\n",
    "#create numbers and names of days\n",
    "for i in range(df_system.shape[0]):\n",
    "    split_list = df_system.at[i, \"created_str\"].split(\" \")\n",
    "    time = split_list[1]\n",
    "    split_hour = time.split(\":\")\n",
    "    df_system.at[i, \"hour\"] = split_hour[0]    \n",
    "\n",
    "df_system.head()"
   ]
  },
  {
   "cell_type": "code",
   "execution_count": 364,
   "id": "5f4750f5",
   "metadata": {},
   "outputs": [
    {
     "data": {
      "text/plain": [
       "<matplotlib.legend.Legend at 0x18505c7d460>"
      ]
     },
     "execution_count": 364,
     "metadata": {},
     "output_type": "execute_result"
    },
    {
     "data": {
      "image/png": "[encoded data removed]",
      "text/plain": [
       "<Figure size 1080x432 with 1 Axes>"
      ]
     },
     "metadata": {},
     "output_type": "display_data"
    }
   ],
   "source": [
    "df_system_bar = df_system.groupby(\"hour\").mean()[\"cooking_waiting\"].reset_index()\n",
    "df_orders_count = df_system.groupby(\"hour\").count()[\"cooking_waiting\"].reset_index()\n",
    "df_orders_count[\"cooking_waiting\"] = df_orders_count[\"cooking_waiting\"] / 100\n",
    "\n",
    "bar_system = sns.barplot(\n",
    "    data = df_system_bar\n",
    "    , x = \"hour\"\n",
    "    , y = \"cooking_waiting\"\n",
    "    , ci = None\n",
    "    , palette = [\"#87bdef\"]\n",
    "    , label = \"cooking_waiting, min\"\n",
    ")\n",
    "\n",
    "for p in bar_system.patches:\n",
    "    bar_system.annotate(\n",
    "        format(p.get_height(), '.0f')\n",
    "        , (p.get_x() + p.get_width() / 2., p.get_height())\n",
    "        , ha = 'center'\n",
    "        , va = 'center'\n",
    "        , xytext = (0, -10)\n",
    "        , textcoords = 'offset points'\n",
    "        , color = 'black'\n",
    "        , fontweight =\"bold\"\n",
    "        , size = 9\n",
    "    )\n",
    "    \n",
    "    \n",
    "bar_system = sns.lineplot(\n",
    "    data = df_orders_count\n",
    "    , x = \"hour\"\n",
    "    , y = \"cooking_waiting\"\n",
    "    , color = \"#efbb1d\"\n",
    "    , label = \"Orders dynamics\"\n",
    "    , ci = None\n",
    ")\n",
    "\n",
    "bar_system.set_title(\"Average cooking waiting per order hour: time between rider picked up and rider at restaurant\", fontweight =\"bold\", size = 16)\n",
    "bar_system.set_xlabel(\"Order hour, UTC\", fontweight =\"bold\", size = 12)\n",
    "bar_system.set_ylabel(\"Timedelta, minutes\", fontweight =\"bold\", size = 12)\n",
    "bar_system.legend(ncol = 3, loc = \"upper center\", frameon = True)"
   ]
  },
  {
   "cell_type": "code",
   "execution_count": 365,
   "id": "3cbe952a",
   "metadata": {},
   "outputs": [
    {
     "data": {
      "text/plain": [
       "<matplotlib.legend.Legend at 0x18506dc7df0>"
      ]
     },
     "execution_count": 365,
     "metadata": {},
     "output_type": "execute_result"
    },
    {
     "data": {
      "image/png": "[encoded data removed]",
      "text/plain": [
       "<Figure size 1080x432 with 1 Axes>"
      ]
     },
     "metadata": {},
     "output_type": "display_data"
    }
   ],
   "source": [
    "df_system = df_system.query(\"cooking_waiting < 45\")\n",
    "\n",
    "system_hist = sns.histplot(\n",
    "    df_system,\n",
    "    x=\"cooking_waiting\",\n",
    "    palette=\"light:m_r\",\n",
    "    edgecolor=\".3\",\n",
    "    linewidth= 1,\n",
    ")\n",
    "\n",
    "plt.axvline(x = df_system_med.iloc[0][\"cooking_waiting\"], color = 'green', linestyle = '--', label = 'median')\n",
    "plt.axvline(x = df_system_mean.iloc[0][\"cooking_waiting\"], color = 'black', linestyle = '--', label = 'mean')\n",
    "plt.axvline(x = df_system_q.iloc[0][\"cooking_waiting\"], color = 'orange', linestyle = '--', label = 'Q80')\n",
    "\n",
    "system_hist.set_title(\"Distribution of cooking waiting: time between rider picked up and rider at restaurant\", fontweight =\"bold\", size = 16)\n",
    "system_hist.set_xlabel(\"Timedelta, minutes\", fontweight =\"bold\", size = 12)\n",
    "system_hist.set_ylabel(\"Frequency\", fontweight =\"bold\", size = 12)\n",
    "\n",
    "system_hist.legend(ncol = 1, loc=\"upper right\", frameon=True)"
   ]
  },
  {
   "attachments": {},
   "cell_type": "markdown",
   "id": "7fccbc60",
   "metadata": {},
   "source": [
    "Riders have to wait for the order for over 8 minutes on average: over 6 minutes in half of all orders and over 12 minutes in 20% of cases.\n",
    "\n",
    "We can notice it's a regular problem throughout the day.\n",
    "\n",
    "It could be solved by later assignment to an order. Currently, riders confirm orders almost at the same time as restaurants (sometimes even earlier).\n",
    "\n",
    "Also, we have a prediction model for the time when the order should be completed by the restaurant. Let's see how close it is."
   ]
  },
  {
   "cell_type": "markdown",
   "id": "61042c2c",
   "metadata": {},
   "source": [
    "# picked_model"
   ]
  },
  {
   "cell_type": "markdown",
   "id": "898cd2ab",
   "metadata": {},
   "source": [
    "expected_pickup_at - time vendor is expected to have the meal ready based on out prediction model.\n",
    "\n",
    "Let's evaluate the timedelta between predicted and fact pick up as well as the timedelta between predicted pick up and the arrival of rider to restaurant. "
   ]
  },
  {
   "cell_type": "code",
   "execution_count": 24,
   "id": "638a8075",
   "metadata": {},
   "outputs": [
    {
     "data": {
      "text/html": [
       "<div>\n",
       "<style scoped>\n",
       "    .dataframe tbody tr th:only-of-type {\n",
       "        vertical-align: middle;\n",
       "    }\n",
       "\n",
       "    .dataframe tbody tr th {\n",
       "        vertical-align: top;\n",
       "    }\n",
       "\n",
       "    .dataframe thead th {\n",
       "        text-align: right;\n",
       "    }\n",
       "</style>\n",
       "<table border=\"1\" class=\"dataframe\">\n",
       "  <thead>\n",
       "    <tr style=\"text-align: right;\">\n",
       "      <th></th>\n",
       "      <th>created_at</th>\n",
       "      <th>picked_model</th>\n",
       "      <th>value</th>\n",
       "    </tr>\n",
       "  </thead>\n",
       "  <tbody>\n",
       "    <tr>\n",
       "      <th>0</th>\n",
       "      <td>2020-08-24 14:40:25.237</td>\n",
       "      <td>0.78</td>\n",
       "      <td>picked_model</td>\n",
       "    </tr>\n",
       "    <tr>\n",
       "      <th>1</th>\n",
       "      <td>2020-08-24 14:18:07.725</td>\n",
       "      <td>-5.35</td>\n",
       "      <td>picked_model</td>\n",
       "    </tr>\n",
       "    <tr>\n",
       "      <th>2</th>\n",
       "      <td>2020-08-24 13:31:05.873</td>\n",
       "      <td>-6.65</td>\n",
       "      <td>picked_model</td>\n",
       "    </tr>\n",
       "    <tr>\n",
       "      <th>3</th>\n",
       "      <td>2020-08-24 13:10:31.513</td>\n",
       "      <td>-19.90</td>\n",
       "      <td>picked_model</td>\n",
       "    </tr>\n",
       "    <tr>\n",
       "      <th>4</th>\n",
       "      <td>2020-08-24 12:53:40.676</td>\n",
       "      <td>0.67</td>\n",
       "      <td>picked_model</td>\n",
       "    </tr>\n",
       "  </tbody>\n",
       "</table>\n",
       "</div>"
      ],
      "text/plain": [
       "               created_at  picked_model         value\n",
       "0 2020-08-24 14:40:25.237          0.78  picked_model\n",
       "1 2020-08-24 14:18:07.725         -5.35  picked_model\n",
       "2 2020-08-24 13:31:05.873         -6.65  picked_model\n",
       "3 2020-08-24 13:10:31.513        -19.90  picked_model\n",
       "4 2020-08-24 12:53:40.676          0.67  picked_model"
      ]
     },
     "execution_count": 24,
     "metadata": {},
     "output_type": "execute_result"
    }
   ],
   "source": [
    "df_system = pd.DataFrame()\n",
    "df_system[\"created_at\"] = df_metrics_all[\"created_at\"]\n",
    "df_system[\"picked_model\"] = df_metrics_all[\"picked_model\"]\n",
    "df_system[\"value\"] = \"picked_model\"\n",
    "\n",
    "df_system.head()"
   ]
  },
  {
   "cell_type": "code",
   "execution_count": 25,
   "id": "97eca41a",
   "metadata": {},
   "outputs": [
    {
     "data": {
      "text/plain": [
       "Text(0, 0.5, 'Frequency')"
      ]
     },
     "execution_count": 25,
     "metadata": {},
     "output_type": "execute_result"
    },
    {
     "data": {
      "image/png": "[encoded data removed]",
      "text/plain": [
       "<Figure size 1080x432 with 1 Axes>"
      ]
     },
     "metadata": {
      "needs_background": "light"
     },
     "output_type": "display_data"
    }
   ],
   "source": [
    "df_system = df_system.query(\"picked_model > -25 and picked_model < 20\")\n",
    "\n",
    "system_hist = sns.histplot(\n",
    "    df_system,\n",
    "    x=\"picked_model\",\n",
    "    palette=\"light:m_r\",\n",
    "    edgecolor=\".3\",\n",
    "    linewidth= 1,\n",
    ")\n",
    "\n",
    "plt.axvline(x = 0, color = 'red', linestyle = '--', label = 'Zero')\n",
    "\n",
    "system_hist.set_title(\"Distribution of pick up prediction error: time between predicted and fact pick up\", fontweight =\"bold\", size = 16)\n",
    "system_hist.set_xlabel(\"Timedelta, minutes\", fontweight =\"bold\", size = 12)\n",
    "system_hist.set_ylabel(\"Frequency\", fontweight =\"bold\", size = 12)"
   ]
  },
  {
   "cell_type": "code",
   "execution_count": 26,
   "id": "308485d8",
   "metadata": {},
   "outputs": [
    {
     "data": {
      "text/html": [
       "<div>\n",
       "<style scoped>\n",
       "    .dataframe tbody tr th:only-of-type {\n",
       "        vertical-align: middle;\n",
       "    }\n",
       "\n",
       "    .dataframe tbody tr th {\n",
       "        vertical-align: top;\n",
       "    }\n",
       "\n",
       "    .dataframe thead th {\n",
       "        text-align: right;\n",
       "    }\n",
       "</style>\n",
       "<table border=\"1\" class=\"dataframe\">\n",
       "  <thead>\n",
       "    <tr style=\"text-align: right;\">\n",
       "      <th></th>\n",
       "      <th>created_at</th>\n",
       "      <th>picked_model_ride</th>\n",
       "      <th>value</th>\n",
       "    </tr>\n",
       "  </thead>\n",
       "  <tbody>\n",
       "    <tr>\n",
       "      <th>0</th>\n",
       "      <td>2020-08-24 14:40:25.237</td>\n",
       "      <td>-3.83</td>\n",
       "      <td>picked_model_ride</td>\n",
       "    </tr>\n",
       "    <tr>\n",
       "      <th>1</th>\n",
       "      <td>2020-08-24 14:18:07.725</td>\n",
       "      <td>-6.92</td>\n",
       "      <td>picked_model_ride</td>\n",
       "    </tr>\n",
       "    <tr>\n",
       "      <th>2</th>\n",
       "      <td>2020-08-24 13:31:05.873</td>\n",
       "      <td>-31.08</td>\n",
       "      <td>picked_model_ride</td>\n",
       "    </tr>\n",
       "    <tr>\n",
       "      <th>3</th>\n",
       "      <td>2020-08-24 13:10:31.513</td>\n",
       "      <td>-25.87</td>\n",
       "      <td>picked_model_ride</td>\n",
       "    </tr>\n",
       "    <tr>\n",
       "      <th>4</th>\n",
       "      <td>2020-08-24 12:53:40.676</td>\n",
       "      <td>-1.12</td>\n",
       "      <td>picked_model_ride</td>\n",
       "    </tr>\n",
       "  </tbody>\n",
       "</table>\n",
       "</div>"
      ],
      "text/plain": [
       "               created_at  picked_model_ride              value\n",
       "0 2020-08-24 14:40:25.237              -3.83  picked_model_ride\n",
       "1 2020-08-24 14:18:07.725              -6.92  picked_model_ride\n",
       "2 2020-08-24 13:31:05.873             -31.08  picked_model_ride\n",
       "3 2020-08-24 13:10:31.513             -25.87  picked_model_ride\n",
       "4 2020-08-24 12:53:40.676              -1.12  picked_model_ride"
      ]
     },
     "execution_count": 26,
     "metadata": {},
     "output_type": "execute_result"
    }
   ],
   "source": [
    "df_system = pd.DataFrame()\n",
    "df_system[\"created_at\"] = df_metrics_all[\"created_at\"]\n",
    "df_system[\"picked_model_ride\"] = df_metrics_all[\"picked_model_ride\"]\n",
    "df_system[\"value\"] = \"picked_model_ride\"\n",
    "\n",
    "df_system.head()"
   ]
  },
  {
   "cell_type": "code",
   "execution_count": 27,
   "id": "33364bce",
   "metadata": {},
   "outputs": [
    {
     "data": {
      "text/plain": [
       "Text(0, 0.5, 'Frequency')"
      ]
     },
     "execution_count": 27,
     "metadata": {},
     "output_type": "execute_result"
    },
    {
     "data": {
      "image/png": "[encoded data removed]",
      "text/plain": [
       "<Figure size 1080x432 with 1 Axes>"
      ]
     },
     "metadata": {
      "needs_background": "light"
     },
     "output_type": "display_data"
    }
   ],
   "source": [
    "df_system = df_system.query(\"picked_model_ride > -20 and picked_model_ride < 20\")\n",
    "\n",
    "system_hist = sns.histplot(\n",
    "    df_system,\n",
    "    x=\"picked_model_ride\",\n",
    "    palette=\"light:m_r\",\n",
    "    edgecolor=\".3\",\n",
    "    linewidth= 1,\n",
    ")\n",
    "\n",
    "plt.axvline(x = 0, color = 'red', linestyle = '--', label = 'Zero')\n",
    "\n",
    "system_hist.set_title(\"Distribution of pick up prediction error: time between predicted pick up and arriving to restaurant\", fontweight =\"bold\", size = 16)\n",
    "system_hist.set_xlabel(\"Timedelta, minutes\", fontweight =\"bold\", size = 12)\n",
    "system_hist.set_ylabel(\"Frequency\", fontweight =\"bold\", size = 12)"
   ]
  },
  {
   "attachments": {},
   "cell_type": "markdown",
   "id": "eb0ad919",
   "metadata": {},
   "source": [
    "The timedelta between predicted and fact pick up and between predicted pick up and the rider’s arrival shows the same bias of 6 minutes.\n",
    "\n",
    "The right zone in the histogram means that the rider picked the order later than predicted; the left zone means earlier.\n",
    "\n",
    "From lower chart we can notice that riders arrive before prediction threshold in the biggest part of cases and have to wait the order at restaurant."
   ]
  },
  {
   "cell_type": "code",
   "execution_count": 28,
   "id": "da336537",
   "metadata": {},
   "outputs": [
    {
     "data": {
      "text/html": [
       "<div>\n",
       "<style scoped>\n",
       "    .dataframe tbody tr th:only-of-type {\n",
       "        vertical-align: middle;\n",
       "    }\n",
       "\n",
       "    .dataframe tbody tr th {\n",
       "        vertical-align: top;\n",
       "    }\n",
       "\n",
       "    .dataframe thead th {\n",
       "        text-align: right;\n",
       "    }\n",
       "</style>\n",
       "<table border=\"1\" class=\"dataframe\">\n",
       "  <thead>\n",
       "    <tr style=\"text-align: right;\">\n",
       "      <th></th>\n",
       "      <th>created_at</th>\n",
       "      <th>picked_model</th>\n",
       "      <th>cooking_time</th>\n",
       "    </tr>\n",
       "  </thead>\n",
       "  <tbody>\n",
       "    <tr>\n",
       "      <th>0</th>\n",
       "      <td>2020-08-24 14:40:25.237</td>\n",
       "      <td>0.78</td>\n",
       "      <td>10.28</td>\n",
       "    </tr>\n",
       "    <tr>\n",
       "      <th>1</th>\n",
       "      <td>2020-08-24 14:18:07.725</td>\n",
       "      <td>-5.35</td>\n",
       "      <td>9.48</td>\n",
       "    </tr>\n",
       "    <tr>\n",
       "      <th>2</th>\n",
       "      <td>2020-08-24 13:31:05.873</td>\n",
       "      <td>-6.65</td>\n",
       "      <td>34.82</td>\n",
       "    </tr>\n",
       "    <tr>\n",
       "      <th>3</th>\n",
       "      <td>2020-08-24 13:10:31.513</td>\n",
       "      <td>-19.90</td>\n",
       "      <td>14.18</td>\n",
       "    </tr>\n",
       "    <tr>\n",
       "      <th>4</th>\n",
       "      <td>2020-08-24 12:53:40.676</td>\n",
       "      <td>0.67</td>\n",
       "      <td>10.13</td>\n",
       "    </tr>\n",
       "  </tbody>\n",
       "</table>\n",
       "</div>"
      ],
      "text/plain": [
       "               created_at  picked_model  cooking_time\n",
       "0 2020-08-24 14:40:25.237          0.78         10.28\n",
       "1 2020-08-24 14:18:07.725         -5.35          9.48\n",
       "2 2020-08-24 13:31:05.873         -6.65         34.82\n",
       "3 2020-08-24 13:10:31.513        -19.90         14.18\n",
       "4 2020-08-24 12:53:40.676          0.67         10.13"
      ]
     },
     "execution_count": 28,
     "metadata": {},
     "output_type": "execute_result"
    }
   ],
   "source": [
    "df_system = pd.DataFrame()\n",
    "df_system[\"created_at\"] = df_metrics_all[\"created_at\"]\n",
    "df_system[\"picked_model\"] = df_metrics_all[\"picked_model\"]\n",
    "df_system[\"cooking_time\"] = df_metrics_all[\"cooking_time\"]\n",
    "\n",
    "df_system.head()"
   ]
  },
  {
   "cell_type": "code",
   "execution_count": 29,
   "id": "efbcb45f",
   "metadata": {},
   "outputs": [
    {
     "data": {
      "image/png": "[encoded data removed]",
      "text/plain": [
       "<Figure size 432x432 with 3 Axes>"
      ]
     },
     "metadata": {
      "needs_background": "light"
     },
     "output_type": "display_data"
    }
   ],
   "source": [
    "df_system = df_system.query(\"picked_model < 20 and picked_model > -20 and cooking_time < 40\")\n",
    "x = np.array(df_system[\"cooking_time\"])\n",
    "y = np.array(df_system[\"picked_model\"])\n",
    "corr = sns.jointplot(x = x, y = y, kind=\"hex\", color=\"#f51010\")"
   ]
  },
  {
   "cell_type": "markdown",
   "id": "03f4f4ed",
   "metadata": {},
   "source": [
    "Above is the correlation between cooking time (h) and prediction error (v) on the red-colored chart. The prediction model could be improved, especially for long-cooked orders, but later rider assignment seems to be a more interesting solution."
   ]
  },
  {
   "cell_type": "markdown",
   "id": "3e73526b",
   "metadata": {},
   "source": [
    "# customer_waiting"
   ]
  },
  {
   "cell_type": "markdown",
   "id": "4ae4aeab",
   "metadata": {},
   "source": [
    "That's the timedelta of rider waiting for customer to drop off the order."
   ]
  },
  {
   "cell_type": "code",
   "execution_count": 30,
   "id": "8f9e4bcb",
   "metadata": {},
   "outputs": [
    {
     "data": {
      "text/html": [
       "<div>\n",
       "<style scoped>\n",
       "    .dataframe tbody tr th:only-of-type {\n",
       "        vertical-align: middle;\n",
       "    }\n",
       "\n",
       "    .dataframe tbody tr th {\n",
       "        vertical-align: top;\n",
       "    }\n",
       "\n",
       "    .dataframe thead th {\n",
       "        text-align: right;\n",
       "    }\n",
       "</style>\n",
       "<table border=\"1\" class=\"dataframe\">\n",
       "  <thead>\n",
       "    <tr style=\"text-align: right;\">\n",
       "      <th></th>\n",
       "      <th>created_at</th>\n",
       "      <th>customer_waiting</th>\n",
       "      <th>value</th>\n",
       "    </tr>\n",
       "  </thead>\n",
       "  <tbody>\n",
       "    <tr>\n",
       "      <th>0</th>\n",
       "      <td>2020-08-24 14:40:25.237</td>\n",
       "      <td>4.22</td>\n",
       "      <td>customer_waiting</td>\n",
       "    </tr>\n",
       "    <tr>\n",
       "      <th>1</th>\n",
       "      <td>2020-08-24 14:18:07.725</td>\n",
       "      <td>7.77</td>\n",
       "      <td>customer_waiting</td>\n",
       "    </tr>\n",
       "    <tr>\n",
       "      <th>2</th>\n",
       "      <td>2020-08-24 13:31:05.873</td>\n",
       "      <td>9.55</td>\n",
       "      <td>customer_waiting</td>\n",
       "    </tr>\n",
       "    <tr>\n",
       "      <th>3</th>\n",
       "      <td>2020-08-24 13:10:31.513</td>\n",
       "      <td>5.17</td>\n",
       "      <td>customer_waiting</td>\n",
       "    </tr>\n",
       "    <tr>\n",
       "      <th>4</th>\n",
       "      <td>2020-08-24 12:53:40.676</td>\n",
       "      <td>0.77</td>\n",
       "      <td>customer_waiting</td>\n",
       "    </tr>\n",
       "  </tbody>\n",
       "</table>\n",
       "</div>"
      ],
      "text/plain": [
       "               created_at  customer_waiting             value\n",
       "0 2020-08-24 14:40:25.237              4.22  customer_waiting\n",
       "1 2020-08-24 14:18:07.725              7.77  customer_waiting\n",
       "2 2020-08-24 13:31:05.873              9.55  customer_waiting\n",
       "3 2020-08-24 13:10:31.513              5.17  customer_waiting\n",
       "4 2020-08-24 12:53:40.676              0.77  customer_waiting"
      ]
     },
     "execution_count": 30,
     "metadata": {},
     "output_type": "execute_result"
    }
   ],
   "source": [
    "df_system = pd.DataFrame()\n",
    "df_system[\"created_at\"] = df_metrics_all[\"created_at\"]\n",
    "df_system[\"customer_waiting\"] = df_metrics_all[\"customer_waiting\"] \n",
    "df_system[\"value\"] = \"customer_waiting\"\n",
    "\n",
    "df_system.head()"
   ]
  },
  {
   "cell_type": "code",
   "execution_count": 31,
   "id": "b1624166",
   "metadata": {},
   "outputs": [
    {
     "data": {
      "text/html": [
       "<div>\n",
       "<style scoped>\n",
       "    .dataframe tbody tr th:only-of-type {\n",
       "        vertical-align: middle;\n",
       "    }\n",
       "\n",
       "    .dataframe tbody tr th {\n",
       "        vertical-align: top;\n",
       "    }\n",
       "\n",
       "    .dataframe thead th {\n",
       "        text-align: right;\n",
       "    }\n",
       "</style>\n",
       "<table border=\"1\" class=\"dataframe\">\n",
       "  <thead>\n",
       "    <tr style=\"text-align: right;\">\n",
       "      <th></th>\n",
       "      <th>aggregation</th>\n",
       "      <th>customer_waiting</th>\n",
       "    </tr>\n",
       "  </thead>\n",
       "  <tbody>\n",
       "    <tr>\n",
       "      <th>0</th>\n",
       "      <td>median</td>\n",
       "      <td>2.320000</td>\n",
       "    </tr>\n",
       "    <tr>\n",
       "      <th>0</th>\n",
       "      <td>mean</td>\n",
       "      <td>3.276593</td>\n",
       "    </tr>\n",
       "    <tr>\n",
       "      <th>0</th>\n",
       "      <td>Q 80%</td>\n",
       "      <td>4.880000</td>\n",
       "    </tr>\n",
       "  </tbody>\n",
       "</table>\n",
       "</div>"
      ],
      "text/plain": [
       "  aggregation  customer_waiting\n",
       "0      median          2.320000\n",
       "0        mean          3.276593\n",
       "0       Q 80%          4.880000"
      ]
     },
     "execution_count": 31,
     "metadata": {},
     "output_type": "execute_result"
    }
   ],
   "source": [
    "df_system_mean = df_system.groupby(\"value\").mean().reset_index()\n",
    "df_system_mean[\"aggregation\"] = \"mean\"\n",
    "df_system_mean = df_system_mean[[\"aggregation\", \"customer_waiting\"]]\n",
    "\n",
    "df_system_med = df_system.groupby(\"value\").median().reset_index()\n",
    "df_system_med[\"aggregation\"] = \"median\"\n",
    "df_system_med = df_system_med[[\"aggregation\", \"customer_waiting\"]]\n",
    "\n",
    "df_system_q = df_system.groupby(\"value\").quantile(q = 0.8).reset_index()\n",
    "df_system_q[\"aggregation\"] = \"Q 80%\"\n",
    "df_system_q = df_system_q[[\"aggregation\", \"customer_waiting\"]]\n",
    "\n",
    "df_system_agg = pd.concat([df_system_med, df_system_mean, df_system_q])\n",
    "df_system_agg"
   ]
  },
  {
   "cell_type": "code",
   "execution_count": 32,
   "id": "7deca4bc",
   "metadata": {},
   "outputs": [
    {
     "data": {
      "text/html": [
       "<div>\n",
       "<style scoped>\n",
       "    .dataframe tbody tr th:only-of-type {\n",
       "        vertical-align: middle;\n",
       "    }\n",
       "\n",
       "    .dataframe tbody tr th {\n",
       "        vertical-align: top;\n",
       "    }\n",
       "\n",
       "    .dataframe thead th {\n",
       "        text-align: right;\n",
       "    }\n",
       "</style>\n",
       "<table border=\"1\" class=\"dataframe\">\n",
       "  <thead>\n",
       "    <tr style=\"text-align: right;\">\n",
       "      <th></th>\n",
       "      <th>created_at</th>\n",
       "      <th>customer_waiting</th>\n",
       "      <th>value</th>\n",
       "      <th>created_str</th>\n",
       "      <th>hour</th>\n",
       "    </tr>\n",
       "  </thead>\n",
       "  <tbody>\n",
       "    <tr>\n",
       "      <th>0</th>\n",
       "      <td>2020-08-24 14:40:25.237</td>\n",
       "      <td>4.22</td>\n",
       "      <td>customer_waiting</td>\n",
       "      <td>2020-08-24 14:40:25.237</td>\n",
       "      <td>14</td>\n",
       "    </tr>\n",
       "    <tr>\n",
       "      <th>1</th>\n",
       "      <td>2020-08-24 14:18:07.725</td>\n",
       "      <td>7.77</td>\n",
       "      <td>customer_waiting</td>\n",
       "      <td>2020-08-24 14:18:07.725</td>\n",
       "      <td>14</td>\n",
       "    </tr>\n",
       "    <tr>\n",
       "      <th>2</th>\n",
       "      <td>2020-08-24 13:31:05.873</td>\n",
       "      <td>9.55</td>\n",
       "      <td>customer_waiting</td>\n",
       "      <td>2020-08-24 13:31:05.873</td>\n",
       "      <td>13</td>\n",
       "    </tr>\n",
       "    <tr>\n",
       "      <th>3</th>\n",
       "      <td>2020-08-24 13:10:31.513</td>\n",
       "      <td>5.17</td>\n",
       "      <td>customer_waiting</td>\n",
       "      <td>2020-08-24 13:10:31.513</td>\n",
       "      <td>13</td>\n",
       "    </tr>\n",
       "    <tr>\n",
       "      <th>4</th>\n",
       "      <td>2020-08-24 12:53:40.676</td>\n",
       "      <td>0.77</td>\n",
       "      <td>customer_waiting</td>\n",
       "      <td>2020-08-24 12:53:40.676</td>\n",
       "      <td>12</td>\n",
       "    </tr>\n",
       "  </tbody>\n",
       "</table>\n",
       "</div>"
      ],
      "text/plain": [
       "               created_at  customer_waiting             value  \\\n",
       "0 2020-08-24 14:40:25.237              4.22  customer_waiting   \n",
       "1 2020-08-24 14:18:07.725              7.77  customer_waiting   \n",
       "2 2020-08-24 13:31:05.873              9.55  customer_waiting   \n",
       "3 2020-08-24 13:10:31.513              5.17  customer_waiting   \n",
       "4 2020-08-24 12:53:40.676              0.77  customer_waiting   \n",
       "\n",
       "               created_str hour  \n",
       "0  2020-08-24 14:40:25.237   14  \n",
       "1  2020-08-24 14:18:07.725   14  \n",
       "2  2020-08-24 13:31:05.873   13  \n",
       "3  2020-08-24 13:10:31.513   13  \n",
       "4  2020-08-24 12:53:40.676   12  "
      ]
     },
     "execution_count": 32,
     "metadata": {},
     "output_type": "execute_result"
    }
   ],
   "source": [
    "df_system[\"created_str\"] = df_system[\"created_at\"].astype('string')\n",
    "#create numbers and names of days\n",
    "for i in range(df_system.shape[0]):\n",
    "    split_list = df_system.at[i, \"created_str\"].split(\" \")\n",
    "    time = split_list[1]\n",
    "    split_hour = time.split(\":\")\n",
    "    df_system.at[i, \"hour\"] = split_hour[0]    \n",
    "\n",
    "df_system.head()"
   ]
  },
  {
   "cell_type": "code",
   "execution_count": 36,
   "id": "447e6551",
   "metadata": {},
   "outputs": [
    {
     "data": {
      "text/plain": [
       "<matplotlib.legend.Legend at 0x21750e04820>"
      ]
     },
     "execution_count": 36,
     "metadata": {},
     "output_type": "execute_result"
    },
    {
     "data": {
      "image/png": "[encoded data removed]",
      "text/plain": [
       "<Figure size 1080x432 with 1 Axes>"
      ]
     },
     "metadata": {
      "needs_background": "light"
     },
     "output_type": "display_data"
    }
   ],
   "source": [
    "df_system_bar = df_system.groupby(\"hour\").mean()[\"customer_waiting\"].reset_index()\n",
    "df_orders_count = df_system.groupby(\"hour\").count()[\"customer_waiting\"].reset_index()\n",
    "df_orders_count[\"customer_waiting\"] = df_orders_count[\"customer_waiting\"] / 150\n",
    "\n",
    "bar_system = sns.barplot(\n",
    "    data = df_system_bar\n",
    "    , x = \"hour\"\n",
    "    , y = \"customer_waiting\"\n",
    "    , ci = None\n",
    "    , palette = [\"#87bdef\"]\n",
    "    , label = \"customer_waiting, min\"\n",
    ")\n",
    "\n",
    "for p in bar_system.patches:\n",
    "    bar_system.annotate(\n",
    "        format(p.get_height(), '.0f')\n",
    "        , (p.get_x() + p.get_width() / 2., p.get_height())\n",
    "        , ha = 'center'\n",
    "        , va = 'center'\n",
    "        , xytext = (0, -10)\n",
    "        , textcoords = 'offset points'\n",
    "        , color = 'black'\n",
    "        , fontweight =\"bold\"\n",
    "        , size = 9\n",
    "    )\n",
    "    \n",
    "    \n",
    "bar_system = sns.lineplot(\n",
    "    data = df_orders_count\n",
    "    , x = \"hour\"\n",
    "    , y = \"customer_waiting\"\n",
    "    , color = \"#efbb1d\"\n",
    "    , label = \"Orders dynamics\"\n",
    "    , ci = None\n",
    ")\n",
    "\n",
    "bar_system.set_title(\"Average customer waiting per order hour: time between drop off and arrival to customer\", fontweight =\"bold\", size = 16)\n",
    "bar_system.set_xlabel(\"Order hour, UTC\", fontweight =\"bold\", size = 12)\n",
    "bar_system.set_ylabel(\"Timedelta, minutes\", fontweight =\"bold\", size = 12)\n",
    "bar_system.legend(ncol = 3, loc = \"upper center\", frameon = True)"
   ]
  },
  {
   "cell_type": "code",
   "execution_count": 35,
   "id": "98a20154",
   "metadata": {},
   "outputs": [
    {
     "data": {
      "text/plain": [
       "<matplotlib.legend.Legend at 0x21751087ca0>"
      ]
     },
     "execution_count": 35,
     "metadata": {},
     "output_type": "execute_result"
    },
    {
     "data": {
      "image/png": "[encoded data removed]",
      "text/plain": [
       "<Figure size 1080x432 with 1 Axes>"
      ]
     },
     "metadata": {
      "needs_background": "light"
     },
     "output_type": "display_data"
    }
   ],
   "source": [
    "df_system = df_system.query(\"customer_waiting < 20\")\n",
    "\n",
    "system_hist = sns.histplot(\n",
    "    df_system,\n",
    "    x=\"customer_waiting\",\n",
    "    palette=\"light:m_r\",\n",
    "    edgecolor=\".3\",\n",
    "    linewidth= 1,\n",
    ")\n",
    "\n",
    "plt.axvline(x = df_system_med.iloc[0][\"customer_waiting\"], color = 'green', linestyle = '--', label = 'median')\n",
    "plt.axvline(x = df_system_mean.iloc[0][\"customer_waiting\"], color = 'black', linestyle = '--', label = 'mean')\n",
    "plt.axvline(x = df_system_q.iloc[0][\"customer_waiting\"], color = 'orange', linestyle = '--', label = 'Q80')\n",
    "\n",
    "system_hist.set_title(\"Distribution of customer waiting: time between drop off and arrival to customer\", fontweight =\"bold\", size = 16)\n",
    "system_hist.set_xlabel(\"Timedelta, minutes\", fontweight =\"bold\", size = 12)\n",
    "system_hist.set_ylabel(\"Frequency\", fontweight =\"bold\", size = 12)\n",
    "\n",
    "system_hist.legend(ncol = 1, loc=\"upper right\", frameon=True)"
   ]
  },
  {
   "attachments": {},
   "cell_type": "markdown",
   "id": "6da0276f",
   "metadata": {},
   "source": [
    "The timedelta between dropping off the order and arriving to customer could be reduced by ~3 minutes. Regardless the time of order, riders have to wait customer over 2,5 minutes in half of orders, over 3,3 minutes in average and over 5 minutes in 20% of orders.\n",
    "\n",
    "It could be solved by notification of customer about soon delivery.\n",
    "\n",
    "It could be solved by more detailed information about the delivery point: probably the rider doesn’t wait for the customer but calls and tries to find the entrance.\n",
    "\n",
    "We also have some prediction model for the entire delivery time, which is shown to the customer, let's see the correlation of its quality with this waiting time."
   ]
  },
  {
   "cell_type": "markdown",
   "id": "7687842e",
   "metadata": {},
   "source": [
    "# promise_model"
   ]
  },
  {
   "cell_type": "markdown",
   "id": "b24d50ac",
   "metadata": {},
   "source": [
    "promised_delivery_time - initial promise we provide customer when order is placed/created using our prediction models\n",
    "\n",
    "We are going to evaluate how the timedelta between prediction and fact is distributed. "
   ]
  },
  {
   "cell_type": "code",
   "execution_count": 37,
   "id": "42730bd0",
   "metadata": {},
   "outputs": [
    {
     "data": {
      "text/html": [
       "<div>\n",
       "<style scoped>\n",
       "    .dataframe tbody tr th:only-of-type {\n",
       "        vertical-align: middle;\n",
       "    }\n",
       "\n",
       "    .dataframe tbody tr th {\n",
       "        vertical-align: top;\n",
       "    }\n",
       "\n",
       "    .dataframe thead th {\n",
       "        text-align: right;\n",
       "    }\n",
       "</style>\n",
       "<table border=\"1\" class=\"dataframe\">\n",
       "  <thead>\n",
       "    <tr style=\"text-align: right;\">\n",
       "      <th></th>\n",
       "      <th>created_at</th>\n",
       "      <th>promise_model</th>\n",
       "      <th>value</th>\n",
       "    </tr>\n",
       "  </thead>\n",
       "  <tbody>\n",
       "    <tr>\n",
       "      <th>0</th>\n",
       "      <td>2020-08-24 14:40:25.237</td>\n",
       "      <td>0.58</td>\n",
       "      <td>promise_model</td>\n",
       "    </tr>\n",
       "    <tr>\n",
       "      <th>1</th>\n",
       "      <td>2020-08-24 14:18:07.725</td>\n",
       "      <td>3.20</td>\n",
       "      <td>promise_model</td>\n",
       "    </tr>\n",
       "    <tr>\n",
       "      <th>2</th>\n",
       "      <td>2020-08-24 13:31:05.873</td>\n",
       "      <td>22.02</td>\n",
       "      <td>promise_model</td>\n",
       "    </tr>\n",
       "    <tr>\n",
       "      <th>3</th>\n",
       "      <td>2020-08-24 13:10:31.513</td>\n",
       "      <td>9.30</td>\n",
       "      <td>promise_model</td>\n",
       "    </tr>\n",
       "    <tr>\n",
       "      <th>4</th>\n",
       "      <td>2020-08-24 12:53:40.676</td>\n",
       "      <td>2.85</td>\n",
       "      <td>promise_model</td>\n",
       "    </tr>\n",
       "  </tbody>\n",
       "</table>\n",
       "</div>"
      ],
      "text/plain": [
       "               created_at  promise_model          value\n",
       "0 2020-08-24 14:40:25.237           0.58  promise_model\n",
       "1 2020-08-24 14:18:07.725           3.20  promise_model\n",
       "2 2020-08-24 13:31:05.873          22.02  promise_model\n",
       "3 2020-08-24 13:10:31.513           9.30  promise_model\n",
       "4 2020-08-24 12:53:40.676           2.85  promise_model"
      ]
     },
     "execution_count": 37,
     "metadata": {},
     "output_type": "execute_result"
    }
   ],
   "source": [
    "df_system = pd.DataFrame()\n",
    "df_system[\"created_at\"] = df_metrics_all[\"created_at\"]\n",
    "df_system[\"promise_model\"] = df_metrics_all[\"promise_model\"]\n",
    "df_system[\"value\"] = \"promise_model\"\n",
    "\n",
    "df_system.head()"
   ]
  },
  {
   "cell_type": "code",
   "execution_count": 38,
   "id": "f22baf8d",
   "metadata": {},
   "outputs": [
    {
     "data": {
      "text/plain": [
       "Text(0, 0.5, 'Frequency')"
      ]
     },
     "execution_count": 38,
     "metadata": {},
     "output_type": "execute_result"
    },
    {
     "data": {
      "image/png": "[encoded data removed]",
      "text/plain": [
       "<Figure size 1080x432 with 1 Axes>"
      ]
     },
     "metadata": {
      "needs_background": "light"
     },
     "output_type": "display_data"
    }
   ],
   "source": [
    "df_system = df_system.query(\"promise_model > -25 and promise_model < 40\")\n",
    "\n",
    "system_hist = sns.histplot(\n",
    "    df_system,\n",
    "    x=\"promise_model\",\n",
    "    palette=\"light:m_r\",\n",
    "    edgecolor=\".3\",\n",
    "    linewidth= 1,\n",
    ")\n",
    "\n",
    "plt.axvline(x = 0, color = 'red', linestyle = '--', label = 'Zero')\n",
    "\n",
    "system_hist.set_title(\"Distribution of pick up prediction error: time between predicted and fact drop off\", fontweight =\"bold\", size = 16)\n",
    "system_hist.set_xlabel(\"Timedelta, minutes\", fontweight =\"bold\", size = 12)\n",
    "system_hist.set_ylabel(\"Frequency\", fontweight =\"bold\", size = 12)"
   ]
  },
  {
   "cell_type": "code",
   "execution_count": 39,
   "id": "f9e44f5d",
   "metadata": {},
   "outputs": [
    {
     "data": {
      "text/html": [
       "<div>\n",
       "<style scoped>\n",
       "    .dataframe tbody tr th:only-of-type {\n",
       "        vertical-align: middle;\n",
       "    }\n",
       "\n",
       "    .dataframe tbody tr th {\n",
       "        vertical-align: top;\n",
       "    }\n",
       "\n",
       "    .dataframe thead th {\n",
       "        text-align: right;\n",
       "    }\n",
       "</style>\n",
       "<table border=\"1\" class=\"dataframe\">\n",
       "  <thead>\n",
       "    <tr style=\"text-align: right;\">\n",
       "      <th></th>\n",
       "      <th>created_at</th>\n",
       "      <th>promise_model</th>\n",
       "      <th>customer_waiting</th>\n",
       "    </tr>\n",
       "  </thead>\n",
       "  <tbody>\n",
       "    <tr>\n",
       "      <th>0</th>\n",
       "      <td>2020-08-24 14:40:25.237</td>\n",
       "      <td>0.58</td>\n",
       "      <td>4.22</td>\n",
       "    </tr>\n",
       "    <tr>\n",
       "      <th>1</th>\n",
       "      <td>2020-08-24 14:18:07.725</td>\n",
       "      <td>3.20</td>\n",
       "      <td>7.77</td>\n",
       "    </tr>\n",
       "    <tr>\n",
       "      <th>2</th>\n",
       "      <td>2020-08-24 13:31:05.873</td>\n",
       "      <td>22.02</td>\n",
       "      <td>9.55</td>\n",
       "    </tr>\n",
       "    <tr>\n",
       "      <th>3</th>\n",
       "      <td>2020-08-24 13:10:31.513</td>\n",
       "      <td>9.30</td>\n",
       "      <td>5.17</td>\n",
       "    </tr>\n",
       "    <tr>\n",
       "      <th>4</th>\n",
       "      <td>2020-08-24 12:53:40.676</td>\n",
       "      <td>2.85</td>\n",
       "      <td>0.77</td>\n",
       "    </tr>\n",
       "  </tbody>\n",
       "</table>\n",
       "</div>"
      ],
      "text/plain": [
       "               created_at  promise_model  customer_waiting\n",
       "0 2020-08-24 14:40:25.237           0.58              4.22\n",
       "1 2020-08-24 14:18:07.725           3.20              7.77\n",
       "2 2020-08-24 13:31:05.873          22.02              9.55\n",
       "3 2020-08-24 13:10:31.513           9.30              5.17\n",
       "4 2020-08-24 12:53:40.676           2.85              0.77"
      ]
     },
     "execution_count": 39,
     "metadata": {},
     "output_type": "execute_result"
    }
   ],
   "source": [
    "df_system = pd.DataFrame()\n",
    "df_system[\"created_at\"] = df_metrics_all[\"created_at\"]\n",
    "df_system[\"promise_model\"] = df_metrics_all[\"promise_model\"]\n",
    "df_system[\"customer_waiting\"] = df_metrics_all[\"customer_waiting\"]\n",
    "\n",
    "df_system.head()"
   ]
  },
  {
   "cell_type": "code",
   "execution_count": 40,
   "id": "abf799ae",
   "metadata": {},
   "outputs": [
    {
     "data": {
      "image/png": "[encoded data removed]",
      "text/plain": [
       "<Figure size 432x432 with 3 Axes>"
      ]
     },
     "metadata": {
      "needs_background": "light"
     },
     "output_type": "display_data"
    }
   ],
   "source": [
    "df_system = df_system.query(\"promise_model < 20 and promise_model > -20 and customer_waiting < 20\")\n",
    "x = np.array(df_system[\"promise_model\"])\n",
    "y = np.array(df_system[\"customer_waiting\"])\n",
    "corr = sns.jointplot(x = x, y = y, kind=\"hex\", color=\"#f51010\")"
   ]
  },
  {
   "attachments": {},
   "cell_type": "markdown",
   "id": "340d3b2b",
   "metadata": {},
   "source": [
    "Timedelta of customer waiting correlates with error of predicted delivery – the more delay, the more minutes are spent for dropping.\n",
    "\n",
    "Seems that hungry and angry customers are not able for fast communication:) \n",
    "\n",
    "It could be reduced by the development of the delivery prediction model.\n",
    "\n",
    "It could be reduced also by fixing the firstly mentioned metric – system_delta, because it’s a part of delivery time. It’s not a part of UTR but can influence on customer waiting time."
   ]
  },
  {
   "attachments": {},
   "cell_type": "markdown",
   "id": "f4a63356",
   "metadata": {},
   "source": [
    "According to the previously mentioned data, we can define the average UTR as 1 hour divided by the average delivery time. Excluding the system_delta (3.35 min mean) and starting delivery time for rider from rider_accepted_at till rider_drop_off, consider the avg delivery_time as 23,25 min and **UTR as 2.57**."
   ]
  },
  {
   "cell_type": "markdown",
   "id": "b09ef089",
   "metadata": {},
   "source": [
    "# Shifts of Riders"
   ]
  },
  {
   "cell_type": "markdown",
   "id": "490f2e46",
   "metadata": {},
   "source": [
    "Another point of view is related to the scheduling of riders.\n",
    "\n",
    "Here I'm going to recalculate the UTR based on scheduled and fact timeshifts and take a look at some of the riders who had planned worktime but didn't start the planned shift."
   ]
  },
  {
   "cell_type": "code",
   "execution_count": 46,
   "id": "a0880cd3",
   "metadata": {},
   "outputs": [
    {
     "data": {
      "text/plain": [
       "459"
      ]
     },
     "execution_count": 46,
     "metadata": {},
     "output_type": "execute_result"
    }
   ],
   "source": [
    "df_shifts_rid.shape[0]"
   ]
  },
  {
   "cell_type": "code",
   "execution_count": 47,
   "id": "1bc2555b",
   "metadata": {},
   "outputs": [
    {
     "data": {
      "text/plain": [
       "468"
      ]
     },
     "execution_count": 47,
     "metadata": {},
     "output_type": "execute_result"
    }
   ],
   "source": [
    "len(np.unique(np.array(df_shifts[\"rider_id\"])))"
   ]
  },
  {
   "cell_type": "markdown",
   "id": "9f590398",
   "metadata": {},
   "source": [
    "Almost all riders (459 out of 468) delivered at least one order during their planned shifts."
   ]
  },
  {
   "cell_type": "code",
   "execution_count": 48,
   "id": "161e487f",
   "metadata": {},
   "outputs": [
    {
     "data": {
      "text/html": [
       "<div>\n",
       "<style scoped>\n",
       "    .dataframe tbody tr th:only-of-type {\n",
       "        vertical-align: middle;\n",
       "    }\n",
       "\n",
       "    .dataframe tbody tr th {\n",
       "        vertical-align: top;\n",
       "    }\n",
       "\n",
       "    .dataframe thead th {\n",
       "        text-align: right;\n",
       "    }\n",
       "</style>\n",
       "<table border=\"1\" class=\"dataframe\">\n",
       "  <thead>\n",
       "    <tr style=\"text-align: right;\">\n",
       "      <th></th>\n",
       "      <th>rider_id</th>\n",
       "      <th>shift_worked</th>\n",
       "    </tr>\n",
       "  </thead>\n",
       "  <tbody>\n",
       "    <tr>\n",
       "      <th>0</th>\n",
       "      <td>25642</td>\n",
       "      <td>14.482500</td>\n",
       "    </tr>\n",
       "    <tr>\n",
       "      <th>1</th>\n",
       "      <td>48442</td>\n",
       "      <td>17.695278</td>\n",
       "    </tr>\n",
       "    <tr>\n",
       "      <th>2</th>\n",
       "      <td>48972</td>\n",
       "      <td>3.133333</td>\n",
       "    </tr>\n",
       "    <tr>\n",
       "      <th>3</th>\n",
       "      <td>53623</td>\n",
       "      <td>4.299722</td>\n",
       "    </tr>\n",
       "    <tr>\n",
       "      <th>4</th>\n",
       "      <td>54495</td>\n",
       "      <td>8.833056</td>\n",
       "    </tr>\n",
       "  </tbody>\n",
       "</table>\n",
       "</div>"
      ],
      "text/plain": [
       "   rider_id  shift_worked\n",
       "0     25642     14.482500\n",
       "1     48442     17.695278\n",
       "2     48972      3.133333\n",
       "3     53623      4.299722\n",
       "4     54495      8.833056"
      ]
     },
     "execution_count": 48,
     "metadata": {},
     "output_type": "execute_result"
    }
   ],
   "source": [
    "import warnings\n",
    "warnings.filterwarnings(\"ignore\")\n",
    "\n",
    "df_shifts_rid = df_shifts.query(\"shift_state == 'EVALUATED'\")\n",
    "df_shifts_rid[\"shift_worked\"] = (df_shifts_rid[\"actual_end_at\"] - df_shifts_rid[\"actual_start_at\"]).dt.seconds / (60 * 60)\n",
    "\n",
    "df_shifts_rid = df_shifts_rid.groupby(\"rider_id\").sum()[\"shift_worked\"].reset_index()\n",
    "df_shifts_rid.head()"
   ]
  },
  {
   "cell_type": "code",
   "execution_count": 49,
   "id": "15119412",
   "metadata": {},
   "outputs": [
    {
     "data": {
      "text/html": [
       "<div>\n",
       "<style scoped>\n",
       "    .dataframe tbody tr th:only-of-type {\n",
       "        vertical-align: middle;\n",
       "    }\n",
       "\n",
       "    .dataframe tbody tr th {\n",
       "        vertical-align: top;\n",
       "    }\n",
       "\n",
       "    .dataframe thead th {\n",
       "        text-align: right;\n",
       "    }\n",
       "</style>\n",
       "<table border=\"1\" class=\"dataframe\">\n",
       "  <thead>\n",
       "    <tr style=\"text-align: right;\">\n",
       "      <th></th>\n",
       "      <th>rider_id</th>\n",
       "      <th>fact_worked</th>\n",
       "      <th>order_id</th>\n",
       "    </tr>\n",
       "  </thead>\n",
       "  <tbody>\n",
       "    <tr>\n",
       "      <th>0</th>\n",
       "      <td>25642</td>\n",
       "      <td>7.644167</td>\n",
       "      <td>17</td>\n",
       "    </tr>\n",
       "    <tr>\n",
       "      <th>1</th>\n",
       "      <td>48442</td>\n",
       "      <td>16.379833</td>\n",
       "      <td>47</td>\n",
       "    </tr>\n",
       "    <tr>\n",
       "      <th>2</th>\n",
       "      <td>48972</td>\n",
       "      <td>3.962833</td>\n",
       "      <td>12</td>\n",
       "    </tr>\n",
       "    <tr>\n",
       "      <th>3</th>\n",
       "      <td>53623</td>\n",
       "      <td>4.153167</td>\n",
       "      <td>15</td>\n",
       "    </tr>\n",
       "    <tr>\n",
       "      <th>4</th>\n",
       "      <td>54495</td>\n",
       "      <td>8.800000</td>\n",
       "      <td>16</td>\n",
       "    </tr>\n",
       "  </tbody>\n",
       "</table>\n",
       "</div>"
      ],
      "text/plain": [
       "   rider_id  fact_worked  order_id\n",
       "0     25642     7.644167        17\n",
       "1     48442    16.379833        47\n",
       "2     48972     3.962833        12\n",
       "3     53623     4.153167        15\n",
       "4     54495     8.800000        16"
      ]
     },
     "execution_count": 49,
     "metadata": {},
     "output_type": "execute_result"
    }
   ],
   "source": [
    "df_metrics_all[\"rider_id\"] = df_metrics_all[\"rider_id\"].astype('int')\n",
    "df_orders_rid = df_metrics_all.copy()\n",
    "df_orders_rid[\"rider_id\"]\n",
    "df_orders_rid[\"fact_worked\"] = (df_orders_rid[\"delivery_time\"] - df_orders_rid[\"system_delta\"]) / 60\n",
    "\n",
    "df_orders_rid_sum = (df_orders_rid.groupby([\"rider_id\"])\n",
    "                     .sum()[\"fact_worked\"]\n",
    "                     .reset_index()\n",
    "                    )\n",
    "\n",
    "df_orders_rid_cnt = (df_orders_rid.groupby([\"rider_id\"])\n",
    "                     .nunique()[\"order_id\"]\n",
    "                     .reset_index()\n",
    "                    )\n",
    "\n",
    "df_orders_rid_stat = pd.merge(df_orders_rid_sum, df_orders_rid_cnt, how = \"inner\", on = \"rider_id\")\n",
    "df_orders_rid_stat.head()"
   ]
  },
  {
   "cell_type": "code",
   "execution_count": 50,
   "id": "4f25ecf1",
   "metadata": {},
   "outputs": [
    {
     "data": {
      "text/html": [
       "<div>\n",
       "<style scoped>\n",
       "    .dataframe tbody tr th:only-of-type {\n",
       "        vertical-align: middle;\n",
       "    }\n",
       "\n",
       "    .dataframe tbody tr th {\n",
       "        vertical-align: top;\n",
       "    }\n",
       "\n",
       "    .dataframe thead th {\n",
       "        text-align: right;\n",
       "    }\n",
       "</style>\n",
       "<table border=\"1\" class=\"dataframe\">\n",
       "  <thead>\n",
       "    <tr style=\"text-align: right;\">\n",
       "      <th></th>\n",
       "      <th>rider_id</th>\n",
       "      <th>fact_worked</th>\n",
       "      <th>order_id</th>\n",
       "      <th>shift_worked</th>\n",
       "    </tr>\n",
       "  </thead>\n",
       "  <tbody>\n",
       "    <tr>\n",
       "      <th>0</th>\n",
       "      <td>25642</td>\n",
       "      <td>7.644167</td>\n",
       "      <td>17</td>\n",
       "      <td>14.482500</td>\n",
       "    </tr>\n",
       "    <tr>\n",
       "      <th>1</th>\n",
       "      <td>48442</td>\n",
       "      <td>16.379833</td>\n",
       "      <td>47</td>\n",
       "      <td>17.695278</td>\n",
       "    </tr>\n",
       "    <tr>\n",
       "      <th>2</th>\n",
       "      <td>48972</td>\n",
       "      <td>3.962833</td>\n",
       "      <td>12</td>\n",
       "      <td>3.133333</td>\n",
       "    </tr>\n",
       "    <tr>\n",
       "      <th>3</th>\n",
       "      <td>53623</td>\n",
       "      <td>4.153167</td>\n",
       "      <td>15</td>\n",
       "      <td>4.299722</td>\n",
       "    </tr>\n",
       "    <tr>\n",
       "      <th>4</th>\n",
       "      <td>54495</td>\n",
       "      <td>8.800000</td>\n",
       "      <td>16</td>\n",
       "      <td>8.833056</td>\n",
       "    </tr>\n",
       "  </tbody>\n",
       "</table>\n",
       "</div>"
      ],
      "text/plain": [
       "   rider_id  fact_worked  order_id  shift_worked\n",
       "0     25642     7.644167        17     14.482500\n",
       "1     48442    16.379833        47     17.695278\n",
       "2     48972     3.962833        12      3.133333\n",
       "3     53623     4.153167        15      4.299722\n",
       "4     54495     8.800000        16      8.833056"
      ]
     },
     "execution_count": 50,
     "metadata": {},
     "output_type": "execute_result"
    }
   ],
   "source": [
    "df_rid = pd.merge(df_orders_rid_stat, df_shifts_rid, how = \"inner\", on = \"rider_id\")\n",
    "df_rid.head()"
   ]
  },
  {
   "cell_type": "code",
   "execution_count": 51,
   "id": "e0177f34",
   "metadata": {},
   "outputs": [
    {
     "data": {
      "text/html": [
       "<div>\n",
       "<style scoped>\n",
       "    .dataframe tbody tr th:only-of-type {\n",
       "        vertical-align: middle;\n",
       "    }\n",
       "\n",
       "    .dataframe tbody tr th {\n",
       "        vertical-align: top;\n",
       "    }\n",
       "\n",
       "    .dataframe thead th {\n",
       "        text-align: right;\n",
       "    }\n",
       "</style>\n",
       "<table border=\"1\" class=\"dataframe\">\n",
       "  <thead>\n",
       "    <tr style=\"text-align: right;\">\n",
       "      <th></th>\n",
       "      <th>rider_id</th>\n",
       "      <th>fact_worked</th>\n",
       "      <th>order_id</th>\n",
       "      <th>shift_worked</th>\n",
       "      <th>UTR_fact</th>\n",
       "      <th>UTR_shift</th>\n",
       "    </tr>\n",
       "  </thead>\n",
       "  <tbody>\n",
       "    <tr>\n",
       "      <th>0</th>\n",
       "      <td>25642</td>\n",
       "      <td>7.644167</td>\n",
       "      <td>17</td>\n",
       "      <td>14.482500</td>\n",
       "      <td>2.223918</td>\n",
       "      <td>1.173830</td>\n",
       "    </tr>\n",
       "    <tr>\n",
       "      <th>1</th>\n",
       "      <td>48442</td>\n",
       "      <td>16.379833</td>\n",
       "      <td>47</td>\n",
       "      <td>17.695278</td>\n",
       "      <td>2.869382</td>\n",
       "      <td>2.656076</td>\n",
       "    </tr>\n",
       "    <tr>\n",
       "      <th>2</th>\n",
       "      <td>48972</td>\n",
       "      <td>3.962833</td>\n",
       "      <td>12</td>\n",
       "      <td>3.133333</td>\n",
       "      <td>3.028136</td>\n",
       "      <td>3.829787</td>\n",
       "    </tr>\n",
       "    <tr>\n",
       "      <th>3</th>\n",
       "      <td>53623</td>\n",
       "      <td>4.153167</td>\n",
       "      <td>15</td>\n",
       "      <td>4.299722</td>\n",
       "      <td>3.611702</td>\n",
       "      <td>3.488597</td>\n",
       "    </tr>\n",
       "    <tr>\n",
       "      <th>4</th>\n",
       "      <td>54495</td>\n",
       "      <td>8.800000</td>\n",
       "      <td>16</td>\n",
       "      <td>8.833056</td>\n",
       "      <td>1.818182</td>\n",
       "      <td>1.811378</td>\n",
       "    </tr>\n",
       "  </tbody>\n",
       "</table>\n",
       "</div>"
      ],
      "text/plain": [
       "   rider_id  fact_worked  order_id  shift_worked  UTR_fact  UTR_shift\n",
       "0     25642     7.644167        17     14.482500  2.223918   1.173830\n",
       "1     48442    16.379833        47     17.695278  2.869382   2.656076\n",
       "2     48972     3.962833        12      3.133333  3.028136   3.829787\n",
       "3     53623     4.153167        15      4.299722  3.611702   3.488597\n",
       "4     54495     8.800000        16      8.833056  1.818182   1.811378"
      ]
     },
     "execution_count": 51,
     "metadata": {},
     "output_type": "execute_result"
    }
   ],
   "source": [
    "df_rid[\"UTR_fact\"] = df_rid[\"order_id\"] / df_rid[\"fact_worked\"]\n",
    "df_rid[\"UTR_shift\"] = df_rid[\"order_id\"] / df_rid[\"shift_worked\"]\n",
    "df_rid.head()"
   ]
  },
  {
   "cell_type": "code",
   "execution_count": 52,
   "id": "844a3319",
   "metadata": {},
   "outputs": [
    {
     "data": {
      "image/png": "[encoded data removed]",
      "text/plain": [
       "<Figure size 432x432 with 3 Axes>"
      ]
     },
     "metadata": {
      "needs_background": "light"
     },
     "output_type": "display_data"
    }
   ],
   "source": [
    "y = np.array(df_rid[\"UTR_fact\"])\n",
    "x = np.array(df_rid[\"fact_worked\"])\n",
    "corr = sns.jointplot(x = x, y = y, kind=\"hex\", color=\"#f51010\")"
   ]
  },
  {
   "attachments": {},
   "cell_type": "markdown",
   "id": "1d56d746",
   "metadata": {},
   "source": [
    "We can notice there is not a strong correlation between worked hours (h) and UTR (v). However, 2 days is a small interval for any additional conclusions.\n",
    "\n",
    "It's also confirmed by almost the same UTR rates for fact and planned timeshifts."
   ]
  },
  {
   "cell_type": "code",
   "execution_count": 55,
   "id": "34f10430",
   "metadata": {},
   "outputs": [
    {
     "data": {
      "text/html": [
       "<div>\n",
       "<style scoped>\n",
       "    .dataframe tbody tr th:only-of-type {\n",
       "        vertical-align: middle;\n",
       "    }\n",
       "\n",
       "    .dataframe tbody tr th {\n",
       "        vertical-align: top;\n",
       "    }\n",
       "\n",
       "    .dataframe thead th {\n",
       "        text-align: right;\n",
       "    }\n",
       "</style>\n",
       "<table border=\"1\" class=\"dataframe\">\n",
       "  <thead>\n",
       "    <tr style=\"text-align: right;\">\n",
       "      <th></th>\n",
       "      <th>aggregation</th>\n",
       "      <th>UTR_fact</th>\n",
       "    </tr>\n",
       "  </thead>\n",
       "  <tbody>\n",
       "    <tr>\n",
       "      <th>0</th>\n",
       "      <td>median</td>\n",
       "      <td>2.599772</td>\n",
       "    </tr>\n",
       "    <tr>\n",
       "      <th>0</th>\n",
       "      <td>mean</td>\n",
       "      <td>2.597853</td>\n",
       "    </tr>\n",
       "    <tr>\n",
       "      <th>0</th>\n",
       "      <td>Q 80%</td>\n",
       "      <td>2.934697</td>\n",
       "    </tr>\n",
       "  </tbody>\n",
       "</table>\n",
       "</div>"
      ],
      "text/plain": [
       "  aggregation  UTR_fact\n",
       "0      median  2.599772\n",
       "0        mean  2.597853\n",
       "0       Q 80%  2.934697"
      ]
     },
     "execution_count": 55,
     "metadata": {},
     "output_type": "execute_result"
    }
   ],
   "source": [
    "df_rid[\"value\"] = 'utr'\n",
    "\n",
    "df_rid_mean = df_rid.groupby(\"value\").mean().reset_index()\n",
    "df_rid_mean[\"aggregation\"] = \"mean\"\n",
    "df_rid_mean = df_rid_mean[[\"aggregation\", \"UTR_fact\"]]\n",
    "\n",
    "df_rid_med = df_rid.groupby(\"value\").median().reset_index()\n",
    "df_rid_med[\"aggregation\"] = \"median\"\n",
    "df_rid_med = df_rid_med[[\"aggregation\", \"UTR_fact\"]]\n",
    "\n",
    "df_rid_q = df_rid.groupby(\"value\").quantile(q = 0.8).reset_index()\n",
    "df_rid_q[\"aggregation\"] = \"Q 80%\"\n",
    "df_rid_q = df_rid_q[[\"aggregation\", \"UTR_fact\"]]\n",
    "\n",
    "df_rid_agg = pd.concat([df_rid_med, df_rid_mean, df_rid_q])\n",
    "df_rid_agg"
   ]
  },
  {
   "cell_type": "code",
   "execution_count": 56,
   "id": "5a596564",
   "metadata": {},
   "outputs": [
    {
     "data": {
      "text/html": [
       "<div>\n",
       "<style scoped>\n",
       "    .dataframe tbody tr th:only-of-type {\n",
       "        vertical-align: middle;\n",
       "    }\n",
       "\n",
       "    .dataframe tbody tr th {\n",
       "        vertical-align: top;\n",
       "    }\n",
       "\n",
       "    .dataframe thead th {\n",
       "        text-align: right;\n",
       "    }\n",
       "</style>\n",
       "<table border=\"1\" class=\"dataframe\">\n",
       "  <thead>\n",
       "    <tr style=\"text-align: right;\">\n",
       "      <th></th>\n",
       "      <th>aggregation</th>\n",
       "      <th>UTR_shift</th>\n",
       "    </tr>\n",
       "  </thead>\n",
       "  <tbody>\n",
       "    <tr>\n",
       "      <th>0</th>\n",
       "      <td>median</td>\n",
       "      <td>2.411791</td>\n",
       "    </tr>\n",
       "    <tr>\n",
       "      <th>0</th>\n",
       "      <td>mean</td>\n",
       "      <td>2.433125</td>\n",
       "    </tr>\n",
       "    <tr>\n",
       "      <th>0</th>\n",
       "      <td>Q 80%</td>\n",
       "      <td>2.798802</td>\n",
       "    </tr>\n",
       "  </tbody>\n",
       "</table>\n",
       "</div>"
      ],
      "text/plain": [
       "  aggregation  UTR_shift\n",
       "0      median   2.411791\n",
       "0        mean   2.433125\n",
       "0       Q 80%   2.798802"
      ]
     },
     "execution_count": 56,
     "metadata": {},
     "output_type": "execute_result"
    }
   ],
   "source": [
    "df_rid[\"value\"] = 'utr'\n",
    "\n",
    "df_rid_mean = df_rid.groupby(\"value\").mean().reset_index()\n",
    "df_rid_mean[\"aggregation\"] = \"mean\"\n",
    "df_rid_mean = df_rid_mean[[\"aggregation\", \"UTR_shift\"]]\n",
    "\n",
    "df_rid_med = df_rid.groupby(\"value\").median().reset_index()\n",
    "df_rid_med[\"aggregation\"] = \"median\"\n",
    "df_rid_med = df_rid_med[[\"aggregation\", \"UTR_shift\"]]\n",
    "\n",
    "df_rid_q = df_rid.groupby(\"value\").quantile(q = 0.8).reset_index()\n",
    "df_rid_q[\"aggregation\"] = \"Q 80%\"\n",
    "df_rid_q = df_rid_q[[\"aggregation\", \"UTR_shift\"]]\n",
    "\n",
    "df_rid_agg = pd.concat([df_rid_med, df_rid_mean, df_rid_q])\n",
    "df_rid_agg"
   ]
  },
  {
   "cell_type": "markdown",
   "id": "0a9e126b",
   "metadata": {},
   "source": [
    "So, I'm not going to consider the data related to riders as an issue, the same can be said regarding supply-demand balance (I have a separate issue related to it at Git): two days seem to be too few for it."
   ]
  },
  {
   "cell_type": "markdown",
   "id": "687eba07",
   "metadata": {},
   "source": [
    "# Key Conclusions"
   ]
  },
  {
   "attachments": {},
   "cell_type": "markdown",
   "id": "170c7fba",
   "metadata": {},
   "source": [
    "The following improvements could increase the rider's performance:\n",
    "- Later rider’s assignment to order => decrease time of waiting at restaurant (~8 min); \n",
    "- Notifications close before delivery and fixing infrastructure cases of sending orders to restaurants => save time for waiting customer (~2 min).\n",
    "- Improvement of both prediction models increase chances for success of two points above.\n",
    "- In the most optimistic scenario, we will save about 10 minutes on average and increase UTR to 4.5."
   ]
  }
 ],
 "metadata": {
  "kernelspec": {
   "display_name": "Python 3",
   "language": "python",
   "name": "python3"
  },
  "language_info": {
   "codemirror_mode": {
    "name": "ipython",
    "version": 3
   },
   "file_extension": ".py",
   "mimetype": "text/x-python",
   "name": "python",
   "nbconvert_exporter": "python",
   "pygments_lexer": "ipython3",
   "version": "3.8.8"
  }
 },
 "nbformat": 4,
 "nbformat_minor": 5
}
